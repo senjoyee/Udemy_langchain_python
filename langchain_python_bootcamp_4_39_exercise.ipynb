{
  "nbformat": 4,
  "nbformat_minor": 0,
  "metadata": {
    "colab": {
      "provenance": [],
      "authorship_tag": "ABX9TyMBP7T2E4cVUq/3WoX4R5Ft",
      "include_colab_link": true
    },
    "kernelspec": {
      "name": "python3",
      "display_name": "Python 3"
    },
    "language_info": {
      "name": "python"
    }
  },
  "cells": [
    {
      "cell_type": "markdown",
      "metadata": {
        "id": "view-in-github",
        "colab_type": "text"
      },
      "source": [
        "<a href=\"https://colab.research.google.com/github/senjoyee/udemy_langchain_python/blob/main/langchain_python_bootcamp_4_39_exercise.ipynb\" target=\"_parent\"><img src=\"https://colab.research.google.com/assets/colab-badge.svg\" alt=\"Open In Colab\"/></a>"
      ]
    },
    {
      "cell_type": "code",
      "execution_count": null,
      "metadata": {
        "id": "WA4eAqdXdq7_"
      },
      "outputs": [],
      "source": [
        "!pip install langchain --quiet\n",
        "!pip install -qU langchain-openai --quiet"
      ]
    },
    {
      "cell_type": "code",
      "source": [
        "import os\n",
        "from google.colab import userdata\n",
        "os.environ[\"OPENAI_API_KEY\"] = userdata.get('OPENAI_API_KEY')"
      ],
      "metadata": {
        "id": "-WSGAVLEf8In"
      },
      "execution_count": 2,
      "outputs": []
    },
    {
      "cell_type": "code",
      "source": [
        "from langchain_openai import ChatOpenAI\n",
        "from langchain_core.prompts import ChatPromptTemplate, SystemMessagePromptTemplate, HumanMessagePromptTemplate\n",
        "from langchain_core.output_parsers import StrOutputParser\n",
        "from langchain.chains import LLMChain, SimpleSequentialChain, SequentialChain"
      ],
      "metadata": {
        "id": "VudOAXnYgAM4"
      },
      "execution_count": 13,
      "outputs": []
    },
    {
      "cell_type": "code",
      "source": [
        "import chardet"
      ],
      "metadata": {
        "id": "Abm65XKTgmaP"
      },
      "execution_count": 5,
      "outputs": []
    },
    {
      "cell_type": "code",
      "source": [
        "with open('spanish_customer_email.txt', 'rb') as file:\n",
        "    raw_data = file.read()\n",
        "    result = chardet.detect(raw_data)\n",
        "    encoding = result['encoding']"
      ],
      "metadata": {
        "id": "4jzKv3z-gpYO"
      },
      "execution_count": 6,
      "outputs": []
    },
    {
      "cell_type": "code",
      "source": [
        "encoding"
      ],
      "metadata": {
        "colab": {
          "base_uri": "https://localhost:8080/",
          "height": 35
        },
        "id": "R-xMAOAsguvw",
        "outputId": "5be13e9e-33ba-40cc-c238-aa154b2dbbc1"
      },
      "execution_count": 7,
      "outputs": [
        {
          "output_type": "execute_result",
          "data": {
            "text/plain": [
              "'ISO-8859-1'"
            ],
            "application/vnd.google.colaboratory.intrinsic+json": {
              "type": "string"
            }
          },
          "metadata": {},
          "execution_count": 7
        }
      ]
    },
    {
      "cell_type": "code",
      "source": [
        "with open('spanish_customer_email.txt', encoding='ISO-8859-1') as file:\n",
        "        spanish_email = file.read()"
      ],
      "metadata": {
        "id": "cjRf5LI2gK47"
      },
      "execution_count": 8,
      "outputs": []
    },
    {
      "cell_type": "code",
      "source": [
        "print(spanish_email)"
      ],
      "metadata": {
        "id": "W5xxSJggg9_8"
      },
      "execution_count": null,
      "outputs": []
    },
    {
      "cell_type": "code",
      "source": [
        "llm=ChatOpenAI(model=\"gpt-3.5-turbo\")\n",
        "parser = StrOutputParser()"
      ],
      "metadata": {
        "id": "tIqxZaC_i3Pv"
      },
      "execution_count": 14,
      "outputs": []
    },
    {
      "cell_type": "code",
      "source": [
        "def translate_and_summarize(email):\n",
        "    prompt1 = ChatPromptTemplate.from_messages([(\"system\", \"Identify the language in the text provided. Only return the language\"),(\"user\", \"{email}\")])\n",
        "    prompt2 = ChatPromptTemplate.from_messages([(\"system\", \"Translate the given text from {language} to english\"),(\"user\", \"{email}\")])\n",
        "    prompt3 = ChatPromptTemplate.from_messages([(\"system\", \"Your job is to summarize the text provided\"),(\"user\", \"{translated_text}\")])\n",
        "\n",
        "    chain1 = LLMChain(llm=llm,prompt=prompt1,output_key=\"language\")\n",
        "    chain2 = LLMChain(llm=llm,prompt=prompt2,output_key=\"translated_text\")\n",
        "    chain3 = LLMChain(llm=llm,prompt=prompt3,output_key=\"summary\")\n",
        "\n",
        "    seq_chain = SequentialChain(chains=[chain1,chain2,chain3],input_variables=[\"email\"],output_variables=[\"language\",\"translated_text\",\"summary\"],verbose=True)\n",
        "    result = seq_chain(email)\n",
        "    return result"
      ],
      "metadata": {
        "id": "DwisDsX9gEes"
      },
      "execution_count": 42,
      "outputs": []
    },
    {
      "cell_type": "code",
      "source": [
        "result = translate_and_summarize(spanish_email)"
      ],
      "metadata": {
        "colab": {
          "base_uri": "https://localhost:8080/"
        },
        "id": "Dy3etr4Wng8g",
        "outputId": "ed06eb87-68b9-44df-f525-124f0b781bf4"
      },
      "execution_count": 43,
      "outputs": [
        {
          "output_type": "stream",
          "name": "stdout",
          "text": [
            "\n",
            "\n",
            "\u001b[1m> Entering new SequentialChain chain...\u001b[0m\n",
            "\n",
            "\u001b[1m> Finished chain.\u001b[0m\n"
          ]
        }
      ]
    },
    {
      "cell_type": "code",
      "source": [
        "result.keys()"
      ],
      "metadata": {
        "colab": {
          "base_uri": "https://localhost:8080/"
        },
        "id": "oXvhyDrFonwk",
        "outputId": "6b8b24b3-cd70-4f86-c826-7ca77e124001"
      },
      "execution_count": 44,
      "outputs": [
        {
          "output_type": "execute_result",
          "data": {
            "text/plain": [
              "dict_keys(['email', 'language', 'translated_text', 'summary'])"
            ]
          },
          "metadata": {},
          "execution_count": 44
        }
      ]
    },
    {
      "cell_type": "code",
      "source": [
        "result[\"language\"]"
      ],
      "metadata": {
        "colab": {
          "base_uri": "https://localhost:8080/",
          "height": 35
        },
        "id": "m2nIyTgHo4L6",
        "outputId": "1be45ecc-8857-40d6-b4f2-e4003d7367d0"
      },
      "execution_count": 45,
      "outputs": [
        {
          "output_type": "execute_result",
          "data": {
            "text/plain": [
              "'Spanish'"
            ],
            "application/vnd.google.colaboratory.intrinsic+json": {
              "type": "string"
            }
          },
          "metadata": {},
          "execution_count": 45
        }
      ]
    },
    {
      "cell_type": "code",
      "source": [
        "result[\"translated_text\"]"
      ],
      "metadata": {
        "colab": {
          "base_uri": "https://localhost:8080/",
          "height": 122
        },
        "id": "A81GwWmspIWj",
        "outputId": "3a76bd00-33f0-4537-956b-f36466327123"
      },
      "execution_count": 46,
      "outputs": [
        {
          "output_type": "execute_result",
          "data": {
            "text/plain": [
              "\"Subject: Technical Issues Report - SAAS Panel Functionality\\n\\nDear Customer Support Team,\\n\\nI hope this message finds you well. I am writing to inform you about a technical issue I have encountered while using your SAAS panel product. As a loyal customer, I appreciate the value your product brings to my business, but I am currently facing a challenge that requires your expertise.\\n\\nI would like to describe in detail the problem I am experiencing:\\n\\n1. Graphic Issue: Upon logging into the SAAS panel, I have noticed that the graphs and tables on the main panel page are not rendering correctly. Data points appear distorted, and some elements overlap, making it difficult to accurately interpret the information.\\n\\n2. Export Function Failure: Additionally, I have been unable to export reports and data from the panel. Every time I try to export a report in CSV or PDF format, I receive an error message indicating that the export has failed. This functionality is crucial for sharing information with my team and external stakeholders, so it is imperative that this is resolved quickly.\\n\\n3. Slow Loading: Over the past week, I have noticed a significant decrease in the loading speed of the SAAS panel. Pages take an unusually long time to load, impacting my productivity and causing frustration. I have a reliable internet connection, so I believe the issue lies within the panel itself.\\n\\nI have already taken the following steps to troubleshoot the issue:\\n\\n1. Cache Clearing: I cleared my browser's cache and cookies to ensure that outdated data is not causing conflicts. However, the issues persist even after taking this action.\\n\\n2. Multiple Browsers: I tried the SAAS panel on different web browsers (Chrome, Firefox, and Safari) to determine if the issue was browser-specific. Unfortunately, the graphic issues, export failures, and slow loading persisted across all browsers.\\n\\nI kindly request your assistance in resolving these issues, as they are hindering my ability to fully leverage the potential of your SAAS panel. Here are the specific actions I would appreciate:\\n\\n1. Graphic Issues Resolution: Please investigate and correct the graphic issues on the main panel page to ensure accurate data visualization.\\n\\n2. Export Function Resolution: Identify and resolve the issue with exporting reports in CSV and PDF formats, allowing me to seamlessly share data with my team and stakeholders.\\n\\n3. Performance Optimization: Please address the slow loading of the SAAS panel to improve the overall user experience and increase productivity.\\n\\nI understand that technical issues can arise from time to time and appreciate your prompt attention to this matter. If you require additional information or assistance from me, please do not hesitate to contact me. I look forward to your prompt response and a swift resolution to these challenges.\\n\\nThank you for your understanding and support.\\n\\nSincerely,\\n\\nMaria Rodriguez\\nCustomer ID: 123456789\\nAccount Information: Example Company Inc.\""
            ],
            "application/vnd.google.colaboratory.intrinsic+json": {
              "type": "string"
            }
          },
          "metadata": {},
          "execution_count": 46
        }
      ]
    },
    {
      "cell_type": "code",
      "source": [
        "result[\"summary\"]"
      ],
      "metadata": {
        "colab": {
          "base_uri": "https://localhost:8080/",
          "height": 70
        },
        "id": "HgVeCbiLpMUv",
        "outputId": "7fbca1d2-75c8-4a01-b82b-b91e790100ae"
      },
      "execution_count": 47,
      "outputs": [
        {
          "output_type": "execute_result",
          "data": {
            "text/plain": [
              "\"The customer, Maria Rodriguez, is reporting technical issues with a SAAS panel product to the customer support team. The issues include graphic rendering problems, export function failures, and slow loading speeds. Despite troubleshooting by clearing cache and testing on different browsers, the problems persist. Maria requests assistance in resolving these issues promptly to improve the product's functionality for her business.\""
            ],
            "application/vnd.google.colaboratory.intrinsic+json": {
              "type": "string"
            }
          },
          "metadata": {},
          "execution_count": 47
        }
      ]
    }
  ]
}