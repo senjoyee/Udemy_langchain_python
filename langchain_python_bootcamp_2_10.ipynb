{
  "nbformat": 4,
  "nbformat_minor": 0,
  "metadata": {
    "colab": {
      "provenance": [],
      "authorship_tag": "ABX9TyOi9KoPiIf1qHZtTLkpTYl3",
      "include_colab_link": true
    },
    "kernelspec": {
      "name": "python3",
      "display_name": "Python 3"
    },
    "language_info": {
      "name": "python"
    }
  },
  "cells": [
    {
      "cell_type": "markdown",
      "metadata": {
        "id": "view-in-github",
        "colab_type": "text"
      },
      "source": [
        "<a href=\"https://colab.research.google.com/github/senjoyee/udemy_langchain_python/blob/main/langchain_python_bootcamp_2_10.ipynb\" target=\"_parent\"><img src=\"https://colab.research.google.com/assets/colab-badge.svg\" alt=\"Open In Colab\"/></a>"
      ]
    },
    {
      "cell_type": "code",
      "execution_count": 2,
      "metadata": {
        "id": "3JVBWB_gq7zd"
      },
      "outputs": [],
      "source": [
        "!pip install -qU langchain-openai"
      ]
    },
    {
      "cell_type": "code",
      "source": [
        "from langchain_openai import ChatOpenAI\n",
        "from langchain_core.messages import HumanMessage, SystemMessage\n",
        "from langchain_core.output_parsers import StrOutputParser\n",
        "from langchain_core.prompts import ChatPromptTemplate, SystemMessagePromptTemplate, HumanMessagePromptTemplate,AIMessagePromptTemplate\n",
        "from google.colab import userdata"
      ],
      "metadata": {
        "id": "DXIOKHOYtaKv"
      },
      "execution_count": 3,
      "outputs": []
    },
    {
      "cell_type": "code",
      "source": [
        "import os\n",
        "os.environ[\"OPENAI_API_KEY\"] = userdata.get('OPENAI_API_KEY')\n",
        "model = ChatOpenAI(model=\"gpt-3.5-turbo\")"
      ],
      "metadata": {
        "id": "t9pGVBbIteA1"
      },
      "execution_count": 4,
      "outputs": []
    },
    {
      "cell_type": "markdown",
      "source": [
        "*AI BOT Legal --> Simple Terms*"
      ],
      "metadata": {
        "id": "VNetwcArtrSU"
      }
    },
    {
      "cell_type": "code",
      "source": [
        "system_template = \"You are a helpful legal assistant that translates complex legal terms into plain and understandable terms.\"\n",
        "system_message_prompt = SystemMessagePromptTemplate.from_template(system_template)"
      ],
      "metadata": {
        "id": "bH1UhsC7tgej"
      },
      "execution_count": 5,
      "outputs": []
    },
    {
      "cell_type": "markdown",
      "source": [
        "\n",
        "\n",
        "*   FEW SHOT\n",
        "\n",
        "*   INPUT HUMAN\n",
        "\n",
        "*   OUTPUT AI\n",
        "\n"
      ],
      "metadata": {
        "id": "KLx8UWTgvT-p"
      }
    },
    {
      "cell_type": "code",
      "source": [
        "legal_text=\"The provisions herein shall be severable, and if any provision or portion thereof is deemed invalid, illegal, or unenforceable by a court of competent jurisdiction, the remaining provisions or portions thereof shall remain in full force and effect to the maximum extent permitted by law.\"\n",
        "example_input_one = HumanMessagePromptTemplate.from_template(legal_text)\n",
        "plain_text = \"the rules in this agreement can be separated\"\n",
        "example_output_one = AIMessagePromptTemplate.from_template(plain_text)\n"
      ],
      "metadata": {
        "id": "AW0pZMWauJhM"
      },
      "execution_count": 6,
      "outputs": []
    },
    {
      "cell_type": "code",
      "source": [
        "human_template = \"{legal_text}\"\n",
        "human_message_prompt = HumanMessagePromptTemplate.from_template(human_template)"
      ],
      "metadata": {
        "id": "myOxuCIIwuEI"
      },
      "execution_count": 7,
      "outputs": []
    },
    {
      "cell_type": "code",
      "source": [
        "chat_prompt = ChatPromptTemplate.from_messages(\n",
        "    [system_message_prompt,example_input_one,example_output_one,human_message_prompt]\n",
        ")"
      ],
      "metadata": {
        "id": "L99IKacQw-4u"
      },
      "execution_count": 8,
      "outputs": []
    },
    {
      "cell_type": "code",
      "source": [
        "chat_prompt.input_variables"
      ],
      "metadata": {
        "id": "1aHAck1kxZ0M",
        "colab": {
          "base_uri": "https://localhost:8080/"
        },
        "outputId": "e861d1da-da72-4e4f-91d9-74f66e3d438f"
      },
      "execution_count": 9,
      "outputs": [
        {
          "output_type": "execute_result",
          "data": {
            "text/plain": [
              "['legal_text']"
            ]
          },
          "metadata": {},
          "execution_count": 9
        }
      ]
    },
    {
      "cell_type": "code",
      "source": [
        "example_legal_text = \"The grantor, being the fee simple owner of the real property herein described, conveys and warrants to the grantee, his heirs and assigns, all of the grantor's right, title, and interest in and to the said property, subject to all existing encumbrances, liens, and easements, as recorded in the official records of the county, and any applicable covenants, conditions, and restrictions affecting the property, in consideration of the sum of [purchase price] paid by the grantee.\"\n",
        "request = chat_prompt.format_prompt(legal_text = example_legal_text).to_messages()"
      ],
      "metadata": {
        "id": "axtT2fudxgEJ"
      },
      "execution_count": 10,
      "outputs": []
    },
    {
      "cell_type": "code",
      "source": [
        "result = model.invoke(request)"
      ],
      "metadata": {
        "id": "N9sLtZfMyPPI"
      },
      "execution_count": 11,
      "outputs": []
    },
    {
      "cell_type": "code",
      "source": [
        "print(result.content)"
      ],
      "metadata": {
        "id": "ulO9npzPzRSm",
        "outputId": "c7b551e0-ba39-438b-d1fb-d75ccaaa481d",
        "colab": {
          "base_uri": "https://localhost:8080/"
        }
      },
      "execution_count": 12,
      "outputs": [
        {
          "output_type": "stream",
          "name": "stdout",
          "text": [
            "The person selling the property, who owns it completely, is transferring all rights and ownership to the buyer, along with any existing debts or obligations related to the property. This is in exchange for the amount of money agreed upon between the buyer and the seller.\n"
          ]
        }
      ]
    }
  ]
}