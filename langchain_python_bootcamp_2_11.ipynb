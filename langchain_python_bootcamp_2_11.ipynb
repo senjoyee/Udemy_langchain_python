{
  "nbformat": 4,
  "nbformat_minor": 0,
  "metadata": {
    "colab": {
      "provenance": [],
      "authorship_tag": "ABX9TyOM9Av6yN89387XzCdo7kQf",
      "include_colab_link": true
    },
    "kernelspec": {
      "name": "python3",
      "display_name": "Python 3"
    },
    "language_info": {
      "name": "python"
    }
  },
  "cells": [
    {
      "cell_type": "markdown",
      "metadata": {
        "id": "view-in-github",
        "colab_type": "text"
      },
      "source": [
        "<a href=\"https://colab.research.google.com/github/senjoyee/udemy_langchain_python/blob/main/langchain_python_bootcamp_2_11.ipynb\" target=\"_parent\"><img src=\"https://colab.research.google.com/assets/colab-badge.svg\" alt=\"Open In Colab\"/></a>"
      ]
    },
    {
      "cell_type": "code",
      "execution_count": null,
      "metadata": {
        "id": "zbnVMI3m8dRW"
      },
      "outputs": [],
      "source": [
        "!pip install -qU langchain-openai"
      ]
    },
    {
      "cell_type": "code",
      "source": [
        "!pip install pydantic"
      ],
      "metadata": {
        "id": "tM4ShHY-XwXn",
        "colab": {
          "base_uri": "https://localhost:8080/"
        },
        "outputId": "eb78025f-7915-4b53-9634-79cb4f054bc2"
      },
      "execution_count": 2,
      "outputs": [
        {
          "output_type": "stream",
          "name": "stdout",
          "text": [
            "Requirement already satisfied: pydantic in /usr/local/lib/python3.10/dist-packages (2.7.1)\n",
            "Requirement already satisfied: annotated-types>=0.4.0 in /usr/local/lib/python3.10/dist-packages (from pydantic) (0.6.0)\n",
            "Requirement already satisfied: pydantic-core==2.18.2 in /usr/local/lib/python3.10/dist-packages (from pydantic) (2.18.2)\n",
            "Requirement already satisfied: typing-extensions>=4.6.1 in /usr/local/lib/python3.10/dist-packages (from pydantic) (4.11.0)\n"
          ]
        }
      ]
    },
    {
      "cell_type": "code",
      "source": [
        "from langchain_openai import ChatOpenAI\n",
        "from langchain_core.messages import HumanMessage, SystemMessage\n",
        "from langchain_core.output_parsers import StrOutputParser\n",
        "from langchain_core.output_parsers import CommaSeparatedListOutputParser\n",
        "from langchain_core.prompts import ChatPromptTemplate, SystemMessagePromptTemplate, HumanMessagePromptTemplate,AIMessagePromptTemplate\n",
        "from google.colab import userdata"
      ],
      "metadata": {
        "id": "zY-io924_LmX"
      },
      "execution_count": 3,
      "outputs": []
    },
    {
      "cell_type": "code",
      "source": [
        "import os\n",
        "os.environ[\"OPENAI_API_KEY\"] = userdata.get('OPENAI_API_KEY')\n",
        "model = ChatOpenAI(model=\"gpt-3.5-turbo\")"
      ],
      "metadata": {
        "id": "pWtdgTz8_W80"
      },
      "execution_count": 4,
      "outputs": []
    },
    {
      "cell_type": "code",
      "source": [
        "output_parser = CommaSeparatedListOutputParser()"
      ],
      "metadata": {
        "id": "be8PgNLp_hAa"
      },
      "execution_count": 5,
      "outputs": []
    },
    {
      "cell_type": "code",
      "source": [
        "output_parser.get_format_instructions()"
      ],
      "metadata": {
        "colab": {
          "base_uri": "https://localhost:8080/",
          "height": 35
        },
        "id": "XXW7SuilCYZe",
        "outputId": "d005ce4b-3e3e-4c01-ece7-cdd72136433b"
      },
      "execution_count": 6,
      "outputs": [
        {
          "output_type": "execute_result",
          "data": {
            "text/plain": [
              "'Your response should be a list of comma separated values, eg: `foo, bar, baz` or `foo,bar,baz`'"
            ],
            "application/vnd.google.colaboratory.intrinsic+json": {
              "type": "string"
            }
          },
          "metadata": {},
          "execution_count": 6
        }
      ]
    },
    {
      "cell_type": "code",
      "source": [
        "human_template = \"{request}\\n{format_instructions}\"\n",
        "human_prompt = HumanMessagePromptTemplate.from_template(human_template)"
      ],
      "metadata": {
        "id": "Q78uTb-sDJGO"
      },
      "execution_count": 7,
      "outputs": []
    },
    {
      "cell_type": "code",
      "source": [
        "chat_prompt = ChatPromptTemplate.from_messages([human_prompt])"
      ],
      "metadata": {
        "id": "2trGXG-3Dymn"
      },
      "execution_count": 8,
      "outputs": []
    },
    {
      "cell_type": "code",
      "source": [
        "chat_prompt.format_prompt(request=\"give me 5 benefits of eating eggs\",\n",
        "                   format_instructions = output_parser.get_format_instructions())"
      ],
      "metadata": {
        "colab": {
          "base_uri": "https://localhost:8080/"
        },
        "id": "9DCL4YeYERN4",
        "outputId": "31049c0d-c40c-4f95-a850-2da07a5f995a"
      },
      "execution_count": 9,
      "outputs": [
        {
          "output_type": "execute_result",
          "data": {
            "text/plain": [
              "ChatPromptValue(messages=[HumanMessage(content='give me 5 benefits of eating eggs\\nYour response should be a list of comma separated values, eg: `foo, bar, baz` or `foo,bar,baz`')])"
            ]
          },
          "metadata": {},
          "execution_count": 9
        }
      ]
    },
    {
      "cell_type": "code",
      "source": [
        "model_request = chat_prompt.format_prompt(request=\"write a poem about animals\",\n",
        "                          format_instructions=output_parser.get_format_instructions()).to_messages()"
      ],
      "metadata": {
        "id": "b1WwedowE679"
      },
      "execution_count": 10,
      "outputs": []
    },
    {
      "cell_type": "code",
      "source": [
        "model_request"
      ],
      "metadata": {
        "colab": {
          "base_uri": "https://localhost:8080/"
        },
        "id": "DagJuDpsF2DH",
        "outputId": "19492bf1-3350-4ddd-f9a0-2cc3239019e1"
      },
      "execution_count": 11,
      "outputs": [
        {
          "output_type": "execute_result",
          "data": {
            "text/plain": [
              "[HumanMessage(content='write a poem about animals\\nYour response should be a list of comma separated values, eg: `foo, bar, baz` or `foo,bar,baz`')]"
            ]
          },
          "metadata": {},
          "execution_count": 11
        }
      ]
    },
    {
      "cell_type": "code",
      "source": [
        "result = model.invoke(model_request)"
      ],
      "metadata": {
        "id": "Umdc9bJiFD9O"
      },
      "execution_count": 25,
      "outputs": []
    },
    {
      "cell_type": "code",
      "source": [
        "print(result.content)"
      ],
      "metadata": {
        "colab": {
          "base_uri": "https://localhost:8080/"
        },
        "id": "SX8J0pIZG-4r",
        "outputId": "bb96bd93-f573-4c45-abfb-48fa1cee872f"
      },
      "execution_count": 13,
      "outputs": [
        {
          "output_type": "stream",
          "name": "stdout",
          "text": [
            "Lions, tigers, bears,\n",
            "Wolves, elephants, hares,\n",
            "Dolphins, eagles, snakes,\n",
            "Kangaroos, monkeys, drakes,\n",
            "Animals big and small,\n",
            "Wonderful creatures, one and all.\n"
          ]
        }
      ]
    },
    {
      "cell_type": "code",
      "source": [
        "output_parser.parse(result.content)"
      ],
      "metadata": {
        "id": "oFgKoKtMHC6J",
        "colab": {
          "base_uri": "https://localhost:8080/"
        },
        "outputId": "2dd5ab4b-e3ea-486f-e6d2-ef1b19b01aa7"
      },
      "execution_count": 14,
      "outputs": [
        {
          "output_type": "execute_result",
          "data": {
            "text/plain": [
              "['Lions',\n",
              " 'tigers',\n",
              " 'bears',\n",
              " 'Wolves',\n",
              " 'elephants',\n",
              " 'hares',\n",
              " 'Dolphins',\n",
              " 'eagles',\n",
              " 'snakes',\n",
              " 'Kangaroos',\n",
              " 'monkeys',\n",
              " 'drakes',\n",
              " 'Animals big and small',\n",
              " 'Wonderful creatures',\n",
              " 'one and all.']"
            ]
          },
          "metadata": {},
          "execution_count": 14
        }
      ]
    },
    {
      "cell_type": "code",
      "source": [
        "from langchain_core.output_parsers import PydanticOutputParser"
      ],
      "metadata": {
        "id": "SAn_YudqHOL5"
      },
      "execution_count": 15,
      "outputs": []
    },
    {
      "cell_type": "code",
      "source": [
        "from pydantic import BaseModel, Field"
      ],
      "metadata": {
        "id": "poPO0D4qX3ql"
      },
      "execution_count": 16,
      "outputs": []
    },
    {
      "cell_type": "code",
      "source": [
        "class Scientist(BaseModel):\n",
        "\n",
        "  name: str = Field(description=\"Name of a scientist\")\n",
        "  discoveries: list = Field(description=\"Python list of discoveries\")"
      ],
      "metadata": {
        "id": "oi-VZBXbX7VT"
      },
      "execution_count": 17,
      "outputs": []
    },
    {
      "cell_type": "code",
      "source": [
        "py_parser = PydanticOutputParser(pydantic_object=Scientist)"
      ],
      "metadata": {
        "id": "FcHzBhGXYiLy"
      },
      "execution_count": 18,
      "outputs": []
    },
    {
      "cell_type": "code",
      "source": [
        "print(py_parser.get_format_instructions())"
      ],
      "metadata": {
        "id": "B2VIFHIJY2PN",
        "colab": {
          "base_uri": "https://localhost:8080/"
        },
        "outputId": "e1e15e6c-1edc-43ad-8eef-95b3bfcad3e0"
      },
      "execution_count": 19,
      "outputs": [
        {
          "output_type": "stream",
          "name": "stdout",
          "text": [
            "The output should be formatted as a JSON instance that conforms to the JSON schema below.\n",
            "\n",
            "As an example, for the schema {\"properties\": {\"foo\": {\"title\": \"Foo\", \"description\": \"a list of strings\", \"type\": \"array\", \"items\": {\"type\": \"string\"}}}, \"required\": [\"foo\"]}\n",
            "the object {\"foo\": [\"bar\", \"baz\"]} is a well-formatted instance of the schema. The object {\"properties\": {\"foo\": [\"bar\", \"baz\"]}} is not well-formatted.\n",
            "\n",
            "Here is the output schema:\n",
            "```\n",
            "{\"properties\": {\"name\": {\"description\": \"Name of a scientist\", \"title\": \"Name\", \"type\": \"string\"}, \"discoveries\": {\"description\": \"Python list of discoveries\", \"items\": {}, \"title\": \"Discoveries\", \"type\": \"array\"}}, \"required\": [\"name\", \"discoveries\"]}\n",
            "```\n"
          ]
        }
      ]
    },
    {
      "cell_type": "code",
      "source": [
        "human_prompt = HumanMessagePromptTemplate.from_template(\"{request}\\n{format_instructions}\")"
      ],
      "metadata": {
        "id": "HZqNbFyuZEyu"
      },
      "execution_count": 20,
      "outputs": []
    },
    {
      "cell_type": "code",
      "source": [
        "chat_prompt = ChatPromptTemplate.from_messages([human_prompt])"
      ],
      "metadata": {
        "id": "Jp3JGHX6ZVse"
      },
      "execution_count": 21,
      "outputs": []
    },
    {
      "cell_type": "code",
      "source": [
        "request = chat_prompt.format_prompt(request=\"Tell me about a famous scientist\",\n",
        "                                    format_instructions=py_parser.get_format_instructions()).to_messages()"
      ],
      "metadata": {
        "id": "Up8Ui8P9ZeDj"
      },
      "execution_count": 22,
      "outputs": []
    },
    {
      "cell_type": "code",
      "source": [
        "result = model(request, temperature=0)"
      ],
      "metadata": {
        "id": "Ml4oW1W0Z_f2"
      },
      "execution_count": 23,
      "outputs": []
    },
    {
      "cell_type": "code",
      "source": [
        "py_parser.parse(result.content)"
      ],
      "metadata": {
        "id": "5L8HnrEiaEm6",
        "colab": {
          "base_uri": "https://localhost:8080/"
        },
        "outputId": "029ae9da-1234-449f-9e0d-80b499efdb04"
      },
      "execution_count": 24,
      "outputs": [
        {
          "output_type": "execute_result",
          "data": {
            "text/plain": [
              "Scientist(name='Isaac Newton', discoveries=['Law of Universal Gravitation', 'Three Laws of Motion'])"
            ]
          },
          "metadata": {},
          "execution_count": 24
        }
      ]
    }
  ]
}