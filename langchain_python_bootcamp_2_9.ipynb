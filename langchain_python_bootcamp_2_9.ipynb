{
  "nbformat": 4,
  "nbformat_minor": 0,
  "metadata": {
    "colab": {
      "provenance": [],
      "authorship_tag": "ABX9TyOUNXzgmbUJTU0leBv5cZdi",
      "include_colab_link": true
    },
    "kernelspec": {
      "name": "python3",
      "display_name": "Python 3"
    },
    "language_info": {
      "name": "python"
    }
  },
  "cells": [
    {
      "cell_type": "markdown",
      "metadata": {
        "id": "view-in-github",
        "colab_type": "text"
      },
      "source": [
        "<a href=\"https://colab.research.google.com/github/senjoyee/udemy_langchain_python/blob/main/langchain_python_bootcamp_2_9.ipynb\" target=\"_parent\"><img src=\"https://colab.research.google.com/assets/colab-badge.svg\" alt=\"Open In Colab\"/></a>"
      ]
    },
    {
      "cell_type": "code",
      "execution_count": 1,
      "metadata": {
        "id": "NbFhRAekDQPf",
        "colab": {
          "base_uri": "https://localhost:8080/"
        },
        "outputId": "1932417d-6b72-4bbd-e8d8-9e248b2a6692"
      },
      "outputs": [
        {
          "output_type": "stream",
          "name": "stdout",
          "text": [
            "\u001b[2K     \u001b[90m━━━━━━━━━━━━━━━━━━━━━━━━━━━━━━━━━━━━━━━━\u001b[0m \u001b[32m302.9/302.9 kB\u001b[0m \u001b[31m11.9 MB/s\u001b[0m eta \u001b[36m0:00:00\u001b[0m\n",
            "\u001b[2K     \u001b[90m━━━━━━━━━━━━━━━━━━━━━━━━━━━━━━━━━━━━━━━━\u001b[0m \u001b[32m320.6/320.6 kB\u001b[0m \u001b[31m12.3 MB/s\u001b[0m eta \u001b[36m0:00:00\u001b[0m\n",
            "\u001b[2K     \u001b[90m━━━━━━━━━━━━━━━━━━━━━━━━━━━━━━━━━━━━━━━━\u001b[0m \u001b[32m1.1/1.1 MB\u001b[0m \u001b[31m45.1 MB/s\u001b[0m eta \u001b[36m0:00:00\u001b[0m\n",
            "\u001b[2K     \u001b[90m━━━━━━━━━━━━━━━━━━━━━━━━━━━━━━━━━━━━━━━━\u001b[0m \u001b[32m121.2/121.2 kB\u001b[0m \u001b[31m9.2 MB/s\u001b[0m eta \u001b[36m0:00:00\u001b[0m\n",
            "\u001b[2K     \u001b[90m━━━━━━━━━━━━━━━━━━━━━━━━━━━━━━━━━━━━━━━━\u001b[0m \u001b[32m53.0/53.0 kB\u001b[0m \u001b[31m4.0 MB/s\u001b[0m eta \u001b[36m0:00:00\u001b[0m\n",
            "\u001b[2K     \u001b[90m━━━━━━━━━━━━━━━━━━━━━━━━━━━━━━━━━━━━━━━━\u001b[0m \u001b[32m75.6/75.6 kB\u001b[0m \u001b[31m7.0 MB/s\u001b[0m eta \u001b[36m0:00:00\u001b[0m\n",
            "\u001b[2K     \u001b[90m━━━━━━━━━━━━━━━━━━━━━━━━━━━━━━━━━━━━━━━━\u001b[0m \u001b[32m77.9/77.9 kB\u001b[0m \u001b[31m3.6 MB/s\u001b[0m eta \u001b[36m0:00:00\u001b[0m\n",
            "\u001b[2K     \u001b[90m━━━━━━━━━━━━━━━━━━━━━━━━━━━━━━━━━━━━━━━━\u001b[0m \u001b[32m58.3/58.3 kB\u001b[0m \u001b[31m2.2 MB/s\u001b[0m eta \u001b[36m0:00:00\u001b[0m\n",
            "\u001b[2K     \u001b[90m━━━━━━━━━━━━━━━━━━━━━━━━━━━━━━━━━━━━━━━━\u001b[0m \u001b[32m142.5/142.5 kB\u001b[0m \u001b[31m1.6 MB/s\u001b[0m eta \u001b[36m0:00:00\u001b[0m\n",
            "\u001b[?25h"
          ]
        }
      ],
      "source": [
        "!pip install -qU langchain-openai"
      ]
    },
    {
      "cell_type": "code",
      "source": [
        "from langchain_openai import ChatOpenAI\n",
        "from langchain_core.messages import HumanMessage, SystemMessage\n",
        "from langchain_core.output_parsers import StrOutputParser\n",
        "from langchain_core.prompts import ChatPromptTemplate, SystemMessagePromptTemplate, HumanMessagePromptTemplate\n",
        "from google.colab import userdata"
      ],
      "metadata": {
        "id": "XI2hEC0OEOJ1"
      },
      "execution_count": 2,
      "outputs": []
    },
    {
      "cell_type": "code",
      "source": [
        "import os\n",
        "os.environ[\"OPENAI_API_KEY\"] = userdata.get('OPENAI_API_KEY')\n",
        "model = ChatOpenAI(model=\"gpt-3.5-turbo\")"
      ],
      "metadata": {
        "id": "sHTSQ-QgEJ0l"
      },
      "execution_count": 3,
      "outputs": []
    },
    {
      "cell_type": "code",
      "source": [
        "parser = StrOutputParser()"
      ],
      "metadata": {
        "id": "SRRAyr6HE_zC"
      },
      "execution_count": 4,
      "outputs": []
    },
    {
      "cell_type": "code",
      "source": [
        "def travel_idea(interest, budget):\n",
        "  system_template=\"You are an AI assistant that specializes in planning itineraries for a {interest} trip on a budget of{budget} dollars.\"\n",
        "  system_message_prompt=SystemMessagePromptTemplate.from_template(system_template)\n",
        "  human_template=\"Please give me an example itinerary\"\n",
        "  human_message_prompt=HumanMessagePromptTemplate.from_template(human_template)\n",
        "  chat_prompt=ChatPromptTemplate.from_messages([system_message_prompt, human_message_prompt])\n",
        "  request=chat_prompt.format_prompt(interest=interest, budget=budget).to_messages()\n",
        "  result=model.invoke(request)\n",
        "  return result.content"
      ],
      "metadata": {
        "id": "Za_HrZTWFGRC"
      },
      "execution_count": 9,
      "outputs": []
    },
    {
      "cell_type": "code",
      "source": [
        "print(travel_idea(\"fishing\", \"10000\"))"
      ],
      "metadata": {
        "id": "kAqgc8PbQbi_",
        "colab": {
          "base_uri": "https://localhost:8080/"
        },
        "outputId": "747a40d6-214c-4897-c133-206c2f613419"
      },
      "execution_count": 10,
      "outputs": [
        {
          "output_type": "stream",
          "name": "stdout",
          "text": [
            "Sure! Here's an example itinerary for a fishing trip on a budget of $10000:\n",
            "\n",
            "Day 1: \n",
            "- Arrive at your destination and check into a budget-friendly hotel or rental cabin.\n",
            "- Visit a local tackle shop to purchase any necessary fishing gear.\n",
            "- Spend the afternoon fishing at a nearby lake or river.\n",
            "\n",
            "Day 2-4:\n",
            "- Book a guided fishing excursion for 3 days to explore different fishing spots and learn from local experts. This could include fishing for trout, bass, or other local species.\n",
            "- Pack a cooler with snacks and drinks to save money on meals while out on the water.\n",
            "\n",
            "Day 5:\n",
            "- Take a break from fishing and explore the area. Visit a local fish market or seafood restaurant to try fresh catches.\n",
            "- Relax at the hotel or take a nature hike to enjoy the scenery.\n",
            "\n",
            "Day 6-7:\n",
            "- Spend the last two days fishing on your own at various public fishing spots. Try your luck at catching different types of fish and enjoy some quiet time by the water.\n",
            "- Cook your own meals using the fish you catch or visit local diners for affordable seafood dishes.\n",
            "\n",
            "Overall, this itinerary allows you to experience a variety of fishing opportunities while staying within your budget of $10000. Feel free to adjust the activities and accommodations based on your preferences and the specific destination you choose.\n"
          ]
        }
      ]
    },
    {
      "cell_type": "code",
      "source": [
        "def travel_idea_ls(interest,budget):\n",
        "  system_template=system_template=\"You are an AI assistant that specializes in planning itineraries for a {interest} trip on a budget of {budget} dollars.\"\n",
        "  human_template=\"Please give me an example itinerary\"\n",
        "  prompt_template = ChatPromptTemplate.from_messages([(\"system\", system_template), (\"user\", human_template)])\n",
        "  chain=prompt_template | model | parser\n",
        "  result_1=chain.invoke({\"interest\":interest,\"budget\":budget})\n",
        "  return result_1"
      ],
      "metadata": {
        "id": "K1j_lKVcSr83"
      },
      "execution_count": 11,
      "outputs": []
    },
    {
      "cell_type": "code",
      "source": [
        "print(travel_idea_ls(\"hiking\",\"5000\"))"
      ],
      "metadata": {
        "id": "62srRvm0USM-",
        "colab": {
          "base_uri": "https://localhost:8080/"
        },
        "outputId": "724f9841-ffa0-4ae1-8577-7b3061817689"
      },
      "execution_count": 12,
      "outputs": [
        {
          "output_type": "stream",
          "name": "stdout",
          "text": [
            "Sure! Here is an example itinerary for a hiking trip on a budget of $5000:\n",
            "\n",
            "Day 1-3: Destination - Yosemite National Park, California\n",
            "- Stay at a budget-friendly campsite or hostel near the park entrance ($40 per night)\n",
            "- Explore popular trails like the Mist Trail to Vernal Falls and Half Dome Village\n",
            "- Cost for accommodation for 3 nights: $120\n",
            "- Estimated cost for food and supplies: $100\n",
            "\n",
            "Day 4-6: Destination - Great Smoky Mountains National Park, Tennessee/North Carolina\n",
            "- Stay at a budget-friendly cabin or campground in the park ($50 per night)\n",
            "- Hike the Appalachian Trail or visit Clingmans Dome for panoramic views\n",
            "- Cost for accommodation for 3 nights: $150\n",
            "- Estimated cost for food and supplies: $100\n",
            "\n",
            "Day 7-9: Destination - Zion National Park, Utah\n",
            "- Stay at a budget-friendly motel or campsite outside the park ($60 per night)\n",
            "- Hike the iconic Angels Landing or The Narrows\n",
            "- Cost for accommodation for 3 nights: $180\n",
            "- Estimated cost for food and supplies: $100\n",
            "\n",
            "Day 10-12: Destination - Acadia National Park, Maine\n",
            "- Stay at a budget-friendly inn or campground near the park ($50 per night)\n",
            "- Explore Cadillac Mountain and Jordan Pond\n",
            "- Cost for accommodation for 3 nights: $150\n",
            "- Estimated cost for food and supplies: $100\n",
            "\n",
            "Total estimated cost for accommodation: $600\n",
            "Total estimated cost for food and supplies: $400\n",
            "\n",
            "Additional costs:\n",
            "- Transportation (rental car or gas): $1000\n",
            "- Park entrance fees and permits: $200\n",
            "- Miscellaneous expenses (souvenirs, emergency funds): $700\n",
            "\n",
            "Total estimated cost for the entire trip: $3000\n",
            "\n",
            "This itinerary allows for a 12-day hiking adventure across multiple national parks within your $5000 budget. Feel free to adjust the destinations or activities based on your preferences and interests. Let me know if you need further assistance or modifications.\n"
          ]
        }
      ]
    }
  ]
}