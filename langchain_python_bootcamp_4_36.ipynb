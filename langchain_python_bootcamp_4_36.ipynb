{
  "nbformat": 4,
  "nbformat_minor": 0,
  "metadata": {
    "colab": {
      "provenance": [],
      "authorship_tag": "ABX9TyMwmMMlCybGbmEDFSW268QV",
      "include_colab_link": true
    },
    "kernelspec": {
      "name": "python3",
      "display_name": "Python 3"
    },
    "language_info": {
      "name": "python"
    }
  },
  "cells": [
    {
      "cell_type": "markdown",
      "metadata": {
        "id": "view-in-github",
        "colab_type": "text"
      },
      "source": [
        "<a href=\"https://colab.research.google.com/github/senjoyee/udemy_langchain_python/blob/main/langchain_python_bootcamp_4_36.ipynb\" target=\"_parent\"><img src=\"https://colab.research.google.com/assets/colab-badge.svg\" alt=\"Open In Colab\"/></a>"
      ]
    },
    {
      "cell_type": "code",
      "source": [
        "!pip install langchain\n",
        "!pip install -qU langchain-openai"
      ],
      "metadata": {
        "id": "XW4DOHlqcipf"
      },
      "execution_count": null,
      "outputs": []
    },
    {
      "cell_type": "code",
      "source": [
        "!pip install langchain_community"
      ],
      "metadata": {
        "id": "LSXVkLkfQdsU"
      },
      "execution_count": null,
      "outputs": []
    },
    {
      "cell_type": "markdown",
      "source": [
        "Set API Key"
      ],
      "metadata": {
        "id": "cwnTmPyJc9he"
      }
    },
    {
      "cell_type": "code",
      "source": [
        "import os\n",
        "from google.colab import userdata\n",
        "os.environ[\"OPENAI_API_KEY\"] = userdata.get('OPENAI_API_KEY')"
      ],
      "metadata": {
        "id": "6pdrSNSBc23b"
      },
      "execution_count": 2,
      "outputs": []
    },
    {
      "cell_type": "code",
      "source": [
        "from langchain_openai import ChatOpenAI\n",
        "from langchain_core.prompts import ChatPromptTemplate"
      ],
      "metadata": {
        "id": "oqYSf8ltcHOB"
      },
      "execution_count": 18,
      "outputs": []
    },
    {
      "cell_type": "code",
      "source": [
        "llm=ChatOpenAI(model=\"gpt-3.5-turbo\")"
      ],
      "metadata": {
        "id": "03JyPnxyLZtV"
      },
      "execution_count": 20,
      "outputs": []
    },
    {
      "cell_type": "code",
      "source": [
        "class Scientist():\n",
        "\n",
        "  def __init__(self,first_name,last_name):\n",
        "    self.first_name = first_name\n",
        "    self.last_name = last_name"
      ],
      "metadata": {
        "id": "tUsz52JYLht7"
      },
      "execution_count": 21,
      "outputs": []
    },
    {
      "cell_type": "code",
      "source": [
        "json_schema = {\"title\":\"Scientist\",\n",
        "               \"description\":\"Information about a famous scientist\",\n",
        "               \"type\":\"object\",\n",
        "               \"properties\":{\n",
        "                 \"first_name\":{\"title\":\"First Name\",\n",
        "                               \"description\":\"First name of scientist\",\n",
        "                               \"type\":\"string\"},\n",
        "                 \"last_name\":{\"title\":\"Last Name\",\n",
        "                               \"description\":\"Last name of scientist\",\n",
        "                               \"type\":\"string\"}\n",
        "               },\n",
        "               \"required\":[\"first_name\",\"last_name\"]\n",
        "               }"
      ],
      "metadata": {
        "id": "n5RqAqlUL1n2"
      },
      "execution_count": 22,
      "outputs": []
    },
    {
      "cell_type": "code",
      "source": [
        "template = \"Name a famous {country} scientist\""
      ],
      "metadata": {
        "id": "kT5m87syN5L4"
      },
      "execution_count": 23,
      "outputs": []
    },
    {
      "cell_type": "code",
      "source": [
        "from langchain.chains.openai_functions import create_structured_output_chain"
      ],
      "metadata": {
        "id": "3UWiGmVLOI-g"
      },
      "execution_count": 24,
      "outputs": []
    },
    {
      "cell_type": "code",
      "source": [
        "chat_prompt = ChatPromptTemplate.from_template(template)"
      ],
      "metadata": {
        "id": "ntdxY0foOYHh"
      },
      "execution_count": 25,
      "outputs": []
    },
    {
      "cell_type": "code",
      "source": [
        "chain = create_structured_output_chain(json_schema,llm,chat_prompt,verbose=True)"
      ],
      "metadata": {
        "id": "BCKUOwZjO3HB"
      },
      "execution_count": 26,
      "outputs": []
    },
    {
      "cell_type": "code",
      "source": [
        "result = chain.run(country=\"American\")"
      ],
      "metadata": {
        "colab": {
          "base_uri": "https://localhost:8080/"
        },
        "id": "7ALVyTc0RJaa",
        "outputId": "4e1f3959-e1e2-426b-8fdc-7042f895b204"
      },
      "execution_count": 27,
      "outputs": [
        {
          "output_type": "stream",
          "name": "stderr",
          "text": [
            "/usr/local/lib/python3.10/dist-packages/langchain_core/_api/deprecation.py:119: LangChainDeprecationWarning: The method `Chain.run` was deprecated in langchain 0.1.0 and will be removed in 0.3.0. Use invoke instead.\n",
            "  warn_deprecated(\n"
          ]
        },
        {
          "output_type": "stream",
          "name": "stdout",
          "text": [
            "\n",
            "\n",
            "\u001b[1m> Entering new LLMChain chain...\u001b[0m\n",
            "Prompt after formatting:\n",
            "\u001b[32;1m\u001b[1;3mHuman: Name a famous American scientist\u001b[0m\n",
            "\n",
            "\u001b[1m> Finished chain.\u001b[0m\n"
          ]
        }
      ]
    },
    {
      "cell_type": "code",
      "source": [
        "result"
      ],
      "metadata": {
        "colab": {
          "base_uri": "https://localhost:8080/"
        },
        "id": "Sn_jmYw6RSiO",
        "outputId": "6ea39e57-e718-455d-acac-0e0b3a6930a7"
      },
      "execution_count": 28,
      "outputs": [
        {
          "output_type": "execute_result",
          "data": {
            "text/plain": [
              "{'first_name': 'Neil', 'last_name': 'Armstrong'}"
            ]
          },
          "metadata": {},
          "execution_count": 28
        }
      ]
    },
    {
      "cell_type": "code",
      "source": [
        "albert = Scientist(result[\"first_name\"],result[\"last_name\"])"
      ],
      "metadata": {
        "id": "u5lugoj3RVqt"
      },
      "execution_count": 30,
      "outputs": []
    },
    {
      "cell_type": "code",
      "source": [
        "albert.first_name"
      ],
      "metadata": {
        "colab": {
          "base_uri": "https://localhost:8080/",
          "height": 35
        },
        "id": "MxWLyKcyRkU6",
        "outputId": "c5c1c03e-a28a-43ad-a806-54b452ff5084"
      },
      "execution_count": 31,
      "outputs": [
        {
          "output_type": "execute_result",
          "data": {
            "text/plain": [
              "'Neil'"
            ],
            "application/vnd.google.colaboratory.intrinsic+json": {
              "type": "string"
            }
          },
          "metadata": {},
          "execution_count": 31
        }
      ]
    }
  ]
}