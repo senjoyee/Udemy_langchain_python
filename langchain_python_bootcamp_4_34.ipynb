{
  "nbformat": 4,
  "nbformat_minor": 0,
  "metadata": {
    "colab": {
      "provenance": [],
      "authorship_tag": "ABX9TyOxgUtTs2DGR/DndYbPd8Zx",
      "include_colab_link": true
    },
    "kernelspec": {
      "name": "python3",
      "display_name": "Python 3"
    },
    "language_info": {
      "name": "python"
    }
  },
  "cells": [
    {
      "cell_type": "markdown",
      "metadata": {
        "id": "view-in-github",
        "colab_type": "text"
      },
      "source": [
        "<a href=\"https://colab.research.google.com/github/senjoyee/udemy_langchain_python/blob/main/langchain_python_bootcamp_4_34.ipynb\" target=\"_parent\"><img src=\"https://colab.research.google.com/assets/colab-badge.svg\" alt=\"Open In Colab\"/></a>"
      ]
    },
    {
      "cell_type": "code",
      "execution_count": null,
      "metadata": {
        "id": "9-xeX4oV5SHI"
      },
      "outputs": [],
      "source": [
        "!pip install langchain\n",
        "!pip install -qU langchain-openai"
      ]
    },
    {
      "cell_type": "code",
      "source": [
        "from langchain_openai import OpenAIEmbeddings\n",
        "from langchain_openai import ChatOpenAI\n",
        "from langchain_core.prompts import ChatPromptTemplate, SystemMessagePromptTemplate, HumanMessagePromptTemplate\n",
        "from langchain_core.output_parsers import StrOutputParser\n",
        "from langchain.chains import LLMChain"
      ],
      "metadata": {
        "id": "zvl6oG_V5rXi"
      },
      "execution_count": 2,
      "outputs": []
    },
    {
      "cell_type": "code",
      "source": [
        "from google.colab import userdata\n",
        "import os\n",
        "os.environ[\"OPENAI_API_KEY\"] = userdata.get('OPENAI_API_KEY')"
      ],
      "metadata": {
        "id": "rtWSX-Qu5vwc"
      },
      "execution_count": 3,
      "outputs": []
    },
    {
      "cell_type": "code",
      "source": [
        "llm=ChatOpenAI()"
      ],
      "metadata": {
        "id": "bQAjiWZYHva2"
      },
      "execution_count": 4,
      "outputs": []
    },
    {
      "cell_type": "code",
      "source": [
        "beginner_template=\"\"\"You are a physics teacher who is really focused on\n",
        "beginners and explaining complex concepts in simple to understand terms.\n",
        "You assume no prior knowledge. Here is your question:\\n{input}\"\"\""
      ],
      "metadata": {
        "id": "sN-mLUxFG-rV"
      },
      "execution_count": 5,
      "outputs": []
    },
    {
      "cell_type": "code",
      "source": [
        "expert_template=\"\"\"You are a physics professor who explains physics topics\n",
        "to advanced audience members. You can assume anyone you answer has a PhD in Physics.\n",
        "Here is your question:\\n{input}\"\"\""
      ],
      "metadata": {
        "id": "SkXZAzBiH3Zf"
      },
      "execution_count": 6,
      "outputs": []
    },
    {
      "cell_type": "markdown",
      "source": [
        "ROUTE PROMPT INFORMATION"
      ],
      "metadata": {
        "id": "DbB01-bkIXYZ"
      }
    },
    {
      "cell_type": "code",
      "source": [
        "prompt_infos = [\n",
        "                {\"name\": \"beginner physics\",\n",
        "                 \"description\": \"Answers basic physics questions\",\n",
        "                 \"template\":beginner_template},\n",
        "                {\"name\": \"advanced physics\",\n",
        "                 \"description\": \"Anwers advanced physics questions\",\n",
        "                 \"template\": expert_template}\n",
        "                ]"
      ],
      "metadata": {
        "id": "amRG7jFLIaRO"
      },
      "execution_count": 7,
      "outputs": []
    },
    {
      "cell_type": "code",
      "source": [
        "destination_chains = {}\n",
        "for p_info in prompt_infos:\n",
        "  name=p_info[\"name\"]\n",
        "  prompt_template=p_info[\"template\"]\n",
        "  prompt=ChatPromptTemplate.from_template(template=prompt_template)\n",
        "  chain=LLMChain(llm=llm,prompt=prompt)\n",
        "  destination_chains[name]=chain"
      ],
      "metadata": {
        "colab": {
          "base_uri": "https://localhost:8080/"
        },
        "id": "5LWKlphiKZ9S",
        "outputId": "82befd92-468e-4f7a-86c5-5038a5c5434e"
      },
      "execution_count": 8,
      "outputs": [
        {
          "output_type": "stream",
          "name": "stderr",
          "text": [
            "/usr/local/lib/python3.10/dist-packages/langchain_core/_api/deprecation.py:119: LangChainDeprecationWarning: The class `LLMChain` was deprecated in LangChain 0.1.17 and will be removed in 0.3.0. Use RunnableSequence, e.g., `prompt | llm` instead.\n",
            "  warn_deprecated(\n"
          ]
        }
      ]
    },
    {
      "cell_type": "code",
      "source": [
        "destination_chains"
      ],
      "metadata": {
        "colab": {
          "base_uri": "https://localhost:8080/"
        },
        "id": "Ls6v5ssdLeUe",
        "outputId": "f49569f6-100e-4cf3-c8e5-639655602c8c"
      },
      "execution_count": 9,
      "outputs": [
        {
          "output_type": "execute_result",
          "data": {
            "text/plain": [
              "{'beginner physics': LLMChain(prompt=ChatPromptTemplate(input_variables=['input'], messages=[HumanMessagePromptTemplate(prompt=PromptTemplate(input_variables=['input'], template='You are a physics teacher who is really focused on\\nbeginners and explaining complex concepts in simple to understand terms.\\nYou assume no prior knowledge. Here is your question:\\n{input}'))]), llm=ChatOpenAI(client=<openai.resources.chat.completions.Completions object at 0x7ab2c6e51db0>, async_client=<openai.resources.chat.completions.AsyncCompletions object at 0x7ab2c6e534c0>, openai_api_key=SecretStr('**********'), openai_proxy='')),\n",
              " 'advanced physics': LLMChain(prompt=ChatPromptTemplate(input_variables=['input'], messages=[HumanMessagePromptTemplate(prompt=PromptTemplate(input_variables=['input'], template='You are a physics professor who explains physics topics\\nto advanced audience members. You can assume anyone you answer has a PhD in Physics.\\nHere is your question:\\n{input}'))]), llm=ChatOpenAI(client=<openai.resources.chat.completions.Completions object at 0x7ab2c6e51db0>, async_client=<openai.resources.chat.completions.AsyncCompletions object at 0x7ab2c6e534c0>, openai_api_key=SecretStr('**********'), openai_proxy=''))}"
            ]
          },
          "metadata": {},
          "execution_count": 9
        }
      ]
    },
    {
      "cell_type": "code",
      "source": [
        "default_prompt=ChatPromptTemplate.from_template(\"{input}\")\n",
        "default_chain=LLMChain(llm=llm,prompt=default_prompt)"
      ],
      "metadata": {
        "id": "-_JWrmSELqZk"
      },
      "execution_count": 10,
      "outputs": []
    },
    {
      "cell_type": "code",
      "source": [
        "from langchain.chains.router.multi_prompt_prompt import MULTI_PROMPT_ROUTER_TEMPLATE"
      ],
      "metadata": {
        "id": "Pf6NxbL_KMAr"
      },
      "execution_count": 11,
      "outputs": []
    },
    {
      "cell_type": "code",
      "source": [
        "print(MULTI_PROMPT_ROUTER_TEMPLATE)"
      ],
      "metadata": {
        "colab": {
          "base_uri": "https://localhost:8080/"
        },
        "id": "3e851I8cMlKB",
        "outputId": "8e222b86-13c6-4046-dc77-1e6ccb847b12"
      },
      "execution_count": 12,
      "outputs": [
        {
          "output_type": "stream",
          "name": "stdout",
          "text": [
            "Given a raw text input to a language model select the model prompt best suited for the input. You will be given the names of the available prompts and a description of what the prompt is best suited for. You may also revise the original input if you think that revising it will ultimately lead to a better response from the language model.\n",
            "\n",
            "<< FORMATTING >>\n",
            "Return a markdown code snippet with a JSON object formatted to look like:\n",
            "```json\n",
            "{{{{\n",
            "    \"destination\": string \\ name of the prompt to use or \"DEFAULT\"\n",
            "    \"next_inputs\": string \\ a potentially modified version of the original input\n",
            "}}}}\n",
            "```\n",
            "\n",
            "REMEMBER: \"destination\" MUST be one of the candidate prompt names specified below OR it can be \"DEFAULT\" if the input is not well suited for any of the candidate prompts.\n",
            "REMEMBER: \"next_inputs\" can just be the original input if you don't think any modifications are needed.\n",
            "\n",
            "<< CANDIDATE PROMPTS >>\n",
            "{destinations}\n",
            "\n",
            "<< INPUT >>\n",
            "{{input}}\n",
            "\n",
            "<< OUTPUT (must include ```json at the start of the response) >>\n",
            "<< OUTPUT (must end with ```) >>\n",
            "\n"
          ]
        }
      ]
    },
    {
      "cell_type": "code",
      "source": [
        "destinations = [f'{p[\"name\"]}:{p[\"description\"]}' for p in prompt_infos]"
      ],
      "metadata": {
        "id": "OSUg-wq7NBne"
      },
      "execution_count": 13,
      "outputs": []
    },
    {
      "cell_type": "code",
      "source": [
        "destinations"
      ],
      "metadata": {
        "colab": {
          "base_uri": "https://localhost:8080/"
        },
        "id": "lSAvL76KOF6W",
        "outputId": "fa5bd734-5d69-4dbc-a89a-6a1ae91887fb"
      },
      "execution_count": 14,
      "outputs": [
        {
          "output_type": "execute_result",
          "data": {
            "text/plain": [
              "['beginner physics:Answers basic physics questions',\n",
              " 'advanced physics:Anwers advanced physics questions']"
            ]
          },
          "metadata": {},
          "execution_count": 14
        }
      ]
    },
    {
      "cell_type": "code",
      "source": [
        "destinations_str=\"\\n\".join(destinations)"
      ],
      "metadata": {
        "id": "YuK9N_tAOMSf"
      },
      "execution_count": 15,
      "outputs": []
    },
    {
      "cell_type": "code",
      "source": [
        "print(destinations_str)"
      ],
      "metadata": {
        "colab": {
          "base_uri": "https://localhost:8080/"
        },
        "id": "yr6ca60jOcs-",
        "outputId": "ff4c48b2-343e-4746-c78e-c8beb3458fda"
      },
      "execution_count": 16,
      "outputs": [
        {
          "output_type": "stream",
          "name": "stdout",
          "text": [
            "beginner physics:Answers basic physics questions\n",
            "advanced physics:Anwers advanced physics questions\n"
          ]
        }
      ]
    },
    {
      "cell_type": "code",
      "source": [
        "from langchain.prompts import PromptTemplate\n",
        "from langchain.chains.router.llm_router import LLMRouterChain,RouterOutputParser"
      ],
      "metadata": {
        "id": "FB7skyTIOpFR"
      },
      "execution_count": 17,
      "outputs": []
    },
    {
      "cell_type": "code",
      "source": [
        "router_template=MULTI_PROMPT_ROUTER_TEMPLATE.format(destinations=destinations_str)"
      ],
      "metadata": {
        "id": "U5GyGVITO8fA"
      },
      "execution_count": 18,
      "outputs": []
    },
    {
      "cell_type": "code",
      "source": [
        "print(router_template)"
      ],
      "metadata": {
        "colab": {
          "base_uri": "https://localhost:8080/"
        },
        "id": "UqkPoQt9PKBr",
        "outputId": "cb455b0f-6dff-4f51-ceb6-59dfb656f099"
      },
      "execution_count": 19,
      "outputs": [
        {
          "output_type": "stream",
          "name": "stdout",
          "text": [
            "Given a raw text input to a language model select the model prompt best suited for the input. You will be given the names of the available prompts and a description of what the prompt is best suited for. You may also revise the original input if you think that revising it will ultimately lead to a better response from the language model.\n",
            "\n",
            "<< FORMATTING >>\n",
            "Return a markdown code snippet with a JSON object formatted to look like:\n",
            "```json\n",
            "{{\n",
            "    \"destination\": string \\ name of the prompt to use or \"DEFAULT\"\n",
            "    \"next_inputs\": string \\ a potentially modified version of the original input\n",
            "}}\n",
            "```\n",
            "\n",
            "REMEMBER: \"destination\" MUST be one of the candidate prompt names specified below OR it can be \"DEFAULT\" if the input is not well suited for any of the candidate prompts.\n",
            "REMEMBER: \"next_inputs\" can just be the original input if you don't think any modifications are needed.\n",
            "\n",
            "<< CANDIDATE PROMPTS >>\n",
            "beginner physics:Answers basic physics questions\n",
            "advanced physics:Anwers advanced physics questions\n",
            "\n",
            "<< INPUT >>\n",
            "{input}\n",
            "\n",
            "<< OUTPUT (must include ```json at the start of the response) >>\n",
            "<< OUTPUT (must end with ```) >>\n",
            "\n"
          ]
        }
      ]
    },
    {
      "cell_type": "code",
      "source": [
        "router_prompt=PromptTemplate(template=router_template,\n",
        "                             input_variables=[\"input\"],\n",
        "                             output_parser=RouterOutputParser())"
      ],
      "metadata": {
        "id": "TNtUgB4FPotg"
      },
      "execution_count": 20,
      "outputs": []
    },
    {
      "cell_type": "code",
      "source": [
        "from langchain.chains.router import MultiPromptChain"
      ],
      "metadata": {
        "id": "Hue4FXB7QDBY"
      },
      "execution_count": 21,
      "outputs": []
    },
    {
      "cell_type": "code",
      "source": [
        "router_chain=LLMRouterChain.from_llm(llm,router_prompt)"
      ],
      "metadata": {
        "id": "6tRL2Q0EQJFm"
      },
      "execution_count": 22,
      "outputs": []
    },
    {
      "cell_type": "code",
      "source": [
        "chain=MultiPromptChain(router_chain=router_chain,\n",
        "                       destination_chains=destination_chains,\n",
        "                       default_chain=default_chain,verbose=True\n",
        "                       )"
      ],
      "metadata": {
        "id": "ZSSANnNJQQdg"
      },
      "execution_count": 23,
      "outputs": []
    },
    {
      "cell_type": "code",
      "source": [
        "chain.run(\"How do magnets work?\")"
      ],
      "metadata": {
        "colab": {
          "base_uri": "https://localhost:8080/",
          "height": 226
        },
        "id": "8KwMcRAlQgOW",
        "outputId": "07ddcaf8-2807-4a02-c7f5-ba2515a0963e"
      },
      "execution_count": 24,
      "outputs": [
        {
          "output_type": "stream",
          "name": "stderr",
          "text": [
            "/usr/local/lib/python3.10/dist-packages/langchain_core/_api/deprecation.py:119: LangChainDeprecationWarning: The method `Chain.run` was deprecated in langchain 0.1.0 and will be removed in 0.3.0. Use invoke instead.\n",
            "  warn_deprecated(\n"
          ]
        },
        {
          "output_type": "stream",
          "name": "stdout",
          "text": [
            "\n",
            "\n",
            "\u001b[1m> Entering new MultiPromptChain chain...\u001b[0m\n",
            "beginner physics: {'input': 'How do magnets work?'}\n",
            "\u001b[1m> Finished chain.\u001b[0m\n"
          ]
        },
        {
          "output_type": "execute_result",
          "data": {
            "text/plain": [
              "'Magnets work by creating a magnetic field around them. This magnetic field is produced by the movement of electrons within the atoms of the magnet. Each electron has a property called \"spin,\" which creates a tiny magnetic field. When these spins align in the same direction, they create a larger, stronger magnetic field.\\n\\nWhen two magnets are brought close together, their magnetic fields interact. If the poles of the magnets are opposite (one is north and the other is south), they will attract each other. This is because opposite poles attract each other, similar to how positive and negative charges attract in electricity.\\n\\nOn the other hand, if the poles are the same (both north or both south), they will repel each other. This is because like poles repel each other, similar to how two positive or two negative charges repel in electricity.\\n\\nOverall, magnets work by creating magnetic fields through the movement of electrons, and these fields interact with each other to either attract or repel.'"
            ],
            "application/vnd.google.colaboratory.intrinsic+json": {
              "type": "string"
            }
          },
          "metadata": {},
          "execution_count": 24
        }
      ]
    }
  ]
}