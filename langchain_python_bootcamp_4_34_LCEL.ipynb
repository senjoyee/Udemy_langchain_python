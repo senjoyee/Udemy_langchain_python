{
  "nbformat": 4,
  "nbformat_minor": 0,
  "metadata": {
    "colab": {
      "provenance": [],
      "authorship_tag": "ABX9TyNqlmR6qHyZl3EtoqOd3WJN",
      "include_colab_link": true
    },
    "kernelspec": {
      "name": "python3",
      "display_name": "Python 3"
    },
    "language_info": {
      "name": "python"
    }
  },
  "cells": [
    {
      "cell_type": "markdown",
      "metadata": {
        "id": "view-in-github",
        "colab_type": "text"
      },
      "source": [
        "<a href=\"https://colab.research.google.com/github/senjoyee/udemy_langchain_python/blob/main/langchain_python_bootcamp_4_34_LCEL.ipynb\" target=\"_parent\"><img src=\"https://colab.research.google.com/assets/colab-badge.svg\" alt=\"Open In Colab\"/></a>"
      ]
    },
    {
      "cell_type": "code",
      "source": [
        "!pip install langchain\n",
        "!pip install -qU langchain-openai"
      ],
      "metadata": {
        "id": "XW4DOHlqcipf"
      },
      "execution_count": null,
      "outputs": []
    },
    {
      "cell_type": "code",
      "source": [
        "from langchain_openai import ChatOpenAI\n",
        "from langchain.prompts import ChatPromptTemplate, PromptTemplate\n",
        "from langchain.chains import LLMChain\n",
        "from langchain.chains.router import MultiPromptChain\n",
        "from langchain.chains.router.llm_router import LLMRouterChain, RouterOutputParser\n",
        "from langchain.chains.router.multi_prompt_prompt import MULTI_PROMPT_ROUTER_TEMPLATE"
      ],
      "metadata": {
        "id": "FATWlBuBckG7"
      },
      "execution_count": 59,
      "outputs": []
    },
    {
      "cell_type": "markdown",
      "source": [
        "Set API Key"
      ],
      "metadata": {
        "id": "cwnTmPyJc9he"
      }
    },
    {
      "cell_type": "code",
      "source": [
        "import os\n",
        "from google.colab import userdata\n",
        "os.environ[\"OPENAI_API_KEY\"] = userdata.get('OPENAI_API_KEY')"
      ],
      "metadata": {
        "id": "6pdrSNSBc23b"
      },
      "execution_count": null,
      "outputs": []
    },
    {
      "cell_type": "markdown",
      "source": [
        "Initialize LLM"
      ],
      "metadata": {
        "id": "ViMcew-jdB-Z"
      }
    },
    {
      "cell_type": "code",
      "source": [
        "llm = ChatOpenAI()"
      ],
      "metadata": {
        "id": "c0YZ7z8BdADx"
      },
      "execution_count": 11,
      "outputs": []
    },
    {
      "cell_type": "markdown",
      "source": [
        "Define templates"
      ],
      "metadata": {
        "id": "D316lekXdH2K"
      }
    },
    {
      "cell_type": "code",
      "source": [
        "beginner_template = \"\"\"You are a physics teacher who is really focused on\n",
        "beginners and explaining complex concepts in simple to understand terms.\n",
        "You assume no prior knowledge. Here is your question:\\n{input}\"\"\"\n",
        "\n",
        "expert_template = \"\"\"You are a physics professor who explains physics topics\n",
        "to advanced audience members. You can assume anyone you answer has a PhD in Physics.\n",
        "Here is your question:\\n{input}\"\"\""
      ],
      "metadata": {
        "id": "yxZcDOR7dFRL"
      },
      "execution_count": 12,
      "outputs": []
    },
    {
      "cell_type": "markdown",
      "source": [
        "Define prompt information"
      ],
      "metadata": {
        "id": "9SKmpMWydNr5"
      }
    },
    {
      "cell_type": "code",
      "source": [
        "prompt_infos = [\n",
        "    {\"name\": \"beginner physics\", \"description\": \"Answers basic physics questions\", \"template\": beginner_template},\n",
        "    {\"name\": \"advanced physics\", \"description\": \"Answers advanced physics questions\", \"template\": expert_template}\n",
        "]"
      ],
      "metadata": {
        "id": "AIClaHmrdQeP"
      },
      "execution_count": 13,
      "outputs": []
    },
    {
      "cell_type": "markdown",
      "source": [
        "Create destination chains using LCEL"
      ],
      "metadata": {
        "id": "1s4gOlIUdZb7"
      }
    },
    {
      "cell_type": "code",
      "source": [
        "destination_chains = {p_info[\"name\"]: LLMChain(llm=llm, prompt=ChatPromptTemplate.from_template(p_info[\"template\"])) for p_info in prompt_infos }"
      ],
      "metadata": {
        "id": "-UDWRvCy2Aa4"
      },
      "execution_count": 90,
      "outputs": []
    },
    {
      "cell_type": "markdown",
      "source": [
        "Default Chain"
      ],
      "metadata": {
        "id": "3wjgJNPQ2oSl"
      }
    },
    {
      "cell_type": "code",
      "source": [
        "default_prompt = ChatPromptTemplate.from_template(\"{input}\")"
      ],
      "metadata": {
        "id": "vKnieemFJ0j2"
      },
      "execution_count": 91,
      "outputs": []
    },
    {
      "cell_type": "code",
      "source": [
        "default_chain = LLMChain(llm=llm, prompt=default_prompt)"
      ],
      "metadata": {
        "id": "paMJTwDE2hmV"
      },
      "execution_count": 92,
      "outputs": []
    },
    {
      "cell_type": "code",
      "source": [
        "default_chain"
      ],
      "metadata": {
        "colab": {
          "base_uri": "https://localhost:8080/"
        },
        "id": "0hZHmGk2-A2J",
        "outputId": "1a4d1b91-63d9-4097-e846-a071125adf51"
      },
      "execution_count": 93,
      "outputs": [
        {
          "output_type": "execute_result",
          "data": {
            "text/plain": [
              "LLMChain(prompt=ChatPromptTemplate(input_variables=['input'], messages=[HumanMessagePromptTemplate(prompt=PromptTemplate(input_variables=['input'], template='{input}'))]), llm=ChatOpenAI(client=<openai.resources.chat.completions.Completions object at 0x7a1a214d7d00>, async_client=<openai.resources.chat.completions.AsyncCompletions object at 0x7a1a214d7b50>, openai_api_key=SecretStr('**********'), openai_proxy=''))"
            ]
          },
          "metadata": {},
          "execution_count": 93
        }
      ]
    },
    {
      "cell_type": "markdown",
      "source": [
        "Router Template"
      ],
      "metadata": {
        "id": "ZC6RmZKr4QCV"
      }
    },
    {
      "cell_type": "code",
      "source": [
        "destinations_str = \"\\n\".join([f'{p[\"name\"]}: {p[\"description\"]}' for p in prompt_infos])"
      ],
      "metadata": {
        "id": "x2qP5la74SR0"
      },
      "execution_count": 94,
      "outputs": []
    },
    {
      "cell_type": "code",
      "source": [
        "print(destinations_str)"
      ],
      "metadata": {
        "colab": {
          "base_uri": "https://localhost:8080/"
        },
        "id": "OIID3zzq7KNy",
        "outputId": "b4541447-cdd1-4026-fab2-efe60e198c84"
      },
      "execution_count": 95,
      "outputs": [
        {
          "output_type": "stream",
          "name": "stdout",
          "text": [
            "beginner physics: Answers basic physics questions\n",
            "advanced physics: Answers advanced physics questions\n"
          ]
        }
      ]
    },
    {
      "cell_type": "code",
      "source": [
        "router_template = MULTI_PROMPT_ROUTER_TEMPLATE.format(destinations=destinations_str)"
      ],
      "metadata": {
        "id": "U1ENl0Z75IhH"
      },
      "execution_count": 96,
      "outputs": []
    },
    {
      "cell_type": "code",
      "source": [
        "print(router_template)"
      ],
      "metadata": {
        "id": "REvUeGfD54do"
      },
      "execution_count": null,
      "outputs": []
    },
    {
      "cell_type": "code",
      "source": [
        "router_prompt = PromptTemplate(template=router_template, input_variables=[\"input\"], output_parser=RouterOutputParser())"
      ],
      "metadata": {
        "id": "L7Nk2gbs6Psh"
      },
      "execution_count": 87,
      "outputs": []
    },
    {
      "cell_type": "markdown",
      "source": [
        "Create router chain"
      ],
      "metadata": {
        "id": "7uj7bxeF8pnF"
      }
    },
    {
      "cell_type": "code",
      "source": [
        "router_chain = LLMRouterChain.from_llm(llm, router_prompt)"
      ],
      "metadata": {
        "id": "YZQG0BF36AKd"
      },
      "execution_count": 98,
      "outputs": []
    },
    {
      "cell_type": "markdown",
      "source": [
        "Create multi-prompt chain"
      ],
      "metadata": {
        "id": "1r0JxCIe8rtz"
      }
    },
    {
      "cell_type": "code",
      "source": [
        "chain = MultiPromptChain(router_chain=router_chain, destination_chains=destination_chains, default_chain=default_chain, verbose=True)"
      ],
      "metadata": {
        "id": "OoEL1Jfa8u3q"
      },
      "execution_count": 99,
      "outputs": []
    },
    {
      "cell_type": "code",
      "source": [
        "chain.invoke(\"What is a magnet\")"
      ],
      "metadata": {
        "colab": {
          "base_uri": "https://localhost:8080/"
        },
        "id": "lL_AFA-iKJSt",
        "outputId": "b969e652-5a46-4901-d690-4575a1b88200"
      },
      "execution_count": 100,
      "outputs": [
        {
          "output_type": "stream",
          "name": "stdout",
          "text": [
            "\n",
            "\n",
            "\u001b[1m> Entering new MultiPromptChain chain...\u001b[0m\n",
            "beginner physics: {'input': 'What is a magnet'}\n",
            "\u001b[1m> Finished chain.\u001b[0m\n"
          ]
        },
        {
          "output_type": "execute_result",
          "data": {
            "text/plain": [
              "{'input': 'What is a magnet',\n",
              " 'text': 'A magnet is a material that has the ability to attract certain types of objects, such as iron or steel. Magnets have two main properties: they have a north pole and a south pole. Like poles repel each other, while opposite poles attract each other. This is why magnets can stick to metal objects or attract other magnets. Magnets are used in many everyday items, such as refrigerator magnets, compasses, and even in technology like speakers and hard drives.'}"
            ]
          },
          "metadata": {},
          "execution_count": 100
        }
      ]
    },
    {
      "cell_type": "markdown",
      "source": [
        "Key consideration is that when using a MultiPromptChain, the router chain, destination chain & the default chain, each need to be an instance of LLMChain"
      ],
      "metadata": {
        "id": "eDi0ZC9IKPjO"
      }
    }
  ]
}