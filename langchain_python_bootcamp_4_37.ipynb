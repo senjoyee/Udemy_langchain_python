{
  "nbformat": 4,
  "nbformat_minor": 0,
  "metadata": {
    "colab": {
      "provenance": [],
      "authorship_tag": "ABX9TyOqxFHtNDIHHyMV4Qh1E1C/",
      "include_colab_link": true
    },
    "kernelspec": {
      "name": "python3",
      "display_name": "Python 3"
    },
    "language_info": {
      "name": "python"
    }
  },
  "cells": [
    {
      "cell_type": "markdown",
      "metadata": {
        "id": "view-in-github",
        "colab_type": "text"
      },
      "source": [
        "<a href=\"https://colab.research.google.com/github/senjoyee/udemy_langchain_python/blob/main/langchain_python_bootcamp_4_37.ipynb\" target=\"_parent\"><img src=\"https://colab.research.google.com/assets/colab-badge.svg\" alt=\"Open In Colab\"/></a>"
      ]
    },
    {
      "cell_type": "code",
      "source": [
        "!pip install langchain\n",
        "!pip install -qU langchain-openai"
      ],
      "metadata": {
        "id": "XW4DOHlqcipf"
      },
      "execution_count": null,
      "outputs": []
    },
    {
      "cell_type": "markdown",
      "source": [
        "Set API Key"
      ],
      "metadata": {
        "id": "cwnTmPyJc9he"
      }
    },
    {
      "cell_type": "code",
      "source": [
        "import os\n",
        "from google.colab import userdata\n",
        "os.environ[\"OPENAI_API_KEY\"] = userdata.get('OPENAI_API_KEY')"
      ],
      "metadata": {
        "id": "6pdrSNSBc23b"
      },
      "execution_count": 2,
      "outputs": []
    },
    {
      "cell_type": "code",
      "source": [
        "from langchain_openai import ChatOpenAI\n",
        "from langchain_core.prompts import ChatPromptTemplate,HumanMessagePromptTemplate\n",
        "from langchain_core.messages import HumanMessage"
      ],
      "metadata": {
        "id": "oqYSf8ltcHOB"
      },
      "execution_count": 5,
      "outputs": []
    },
    {
      "cell_type": "code",
      "source": [
        "llm=ChatOpenAI(model=\"gpt-3.5-turbo\")"
      ],
      "metadata": {
        "id": "03JyPnxyLZtV"
      },
      "execution_count": 6,
      "outputs": []
    },
    {
      "cell_type": "code",
      "source": [
        "result = llm.invoke([HumanMessage(content=\"What is 17 raised to the power of 11?\")])"
      ],
      "metadata": {
        "id": "yWYfSCQhTClk"
      },
      "execution_count": 12,
      "outputs": []
    },
    {
      "cell_type": "code",
      "source": [
        "result.content"
      ],
      "metadata": {
        "colab": {
          "base_uri": "https://localhost:8080/",
          "height": 35
        },
        "id": "4m85HcT9TZSu",
        "outputId": "638b1c8e-f854-4a5a-a181-56db91ecc164"
      },
      "execution_count": 13,
      "outputs": [
        {
          "output_type": "execute_result",
          "data": {
            "text/plain": [
              "'17^11 = 17 x 17 x 17 x 17 x 17 x 17 x 17 x 17 x 17 x 17 x 17 = 62,582,657,553'"
            ],
            "application/vnd.google.colaboratory.intrinsic+json": {
              "type": "string"
            }
          },
          "metadata": {},
          "execution_count": 13
        }
      ]
    },
    {
      "cell_type": "markdown",
      "source": [
        "It is hallucinating"
      ],
      "metadata": {
        "id": "Ju8QAvnLTtbJ"
      }
    },
    {
      "cell_type": "code",
      "source": [
        "17**11"
      ],
      "metadata": {
        "colab": {
          "base_uri": "https://localhost:8080/"
        },
        "id": "Imc0mH7NTey0",
        "outputId": "248cebb1-c25d-4fab-ad10-73d87ffcd8a7"
      },
      "execution_count": 11,
      "outputs": [
        {
          "output_type": "execute_result",
          "data": {
            "text/plain": [
              "34271896307633"
            ]
          },
          "metadata": {},
          "execution_count": 11
        }
      ]
    },
    {
      "cell_type": "code",
      "source": [
        "from langchain import LLMMathChain"
      ],
      "metadata": {
        "id": "TgcOUirvTwgm"
      },
      "execution_count": 14,
      "outputs": []
    },
    {
      "cell_type": "code",
      "source": [
        "llm_math_model = LLMMathChain.from_llm(llm)"
      ],
      "metadata": {
        "id": "hl2kNbDKT5v7"
      },
      "execution_count": 15,
      "outputs": []
    },
    {
      "cell_type": "code",
      "source": [
        "llm_math_model.invoke(\"What is 17 raised to the power of 11?\")"
      ],
      "metadata": {
        "colab": {
          "base_uri": "https://localhost:8080/"
        },
        "id": "LkFymtm-UHrA",
        "outputId": "666756f9-0dba-48cb-f76e-e033d19037ca"
      },
      "execution_count": 17,
      "outputs": [
        {
          "output_type": "execute_result",
          "data": {
            "text/plain": [
              "{'question': 'What is 17 raised to the power of 11?',\n",
              " 'answer': 'Answer: 34271896307633'}"
            ]
          },
          "metadata": {},
          "execution_count": 17
        }
      ]
    }
  ]
}