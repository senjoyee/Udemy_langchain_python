{
  "nbformat": 4,
  "nbformat_minor": 0,
  "metadata": {
    "colab": {
      "provenance": [],
      "authorship_tag": "ABX9TyNgnNbA6inNR/hd3bUrXUuy",
      "include_colab_link": true
    },
    "kernelspec": {
      "name": "python3",
      "display_name": "Python 3"
    },
    "language_info": {
      "name": "python"
    }
  },
  "cells": [
    {
      "cell_type": "markdown",
      "metadata": {
        "id": "view-in-github",
        "colab_type": "text"
      },
      "source": [
        "<a href=\"https://colab.research.google.com/github/senjoyee/udemy_langchain_python/blob/main/langchain_python_bootcamp_4_32.ipynb\" target=\"_parent\"><img src=\"https://colab.research.google.com/assets/colab-badge.svg\" alt=\"Open In Colab\"/></a>"
      ]
    },
    {
      "cell_type": "code",
      "execution_count": null,
      "metadata": {
        "id": "9-xeX4oV5SHI"
      },
      "outputs": [],
      "source": [
        "!pip install langchain\n",
        "!pip install -qU langchain-openai"
      ]
    },
    {
      "cell_type": "code",
      "source": [
        "from langchain_openai import OpenAIEmbeddings\n",
        "from langchain_openai import ChatOpenAI\n",
        "from langchain_core.prompts import ChatPromptTemplate, SystemMessagePromptTemplate, HumanMessagePromptTemplate\n",
        "from langchain_core.output_parsers import StrOutputParser"
      ],
      "metadata": {
        "id": "zvl6oG_V5rXi"
      },
      "execution_count": 25,
      "outputs": []
    },
    {
      "cell_type": "code",
      "source": [
        "from google.colab import userdata\n",
        "import os\n",
        "os.environ[\"OPENAI_API_KEY\"] = userdata.get('OPENAI_API_KEY')"
      ],
      "metadata": {
        "id": "rtWSX-Qu5vwc"
      },
      "execution_count": 3,
      "outputs": []
    },
    {
      "cell_type": "code",
      "source": [
        "from langchain.chains import LLMChain, SimpleSequentialChain"
      ],
      "metadata": {
        "id": "XTvORZORHfte"
      },
      "execution_count": 16,
      "outputs": []
    },
    {
      "cell_type": "code",
      "source": [
        "llm=ChatOpenAI()"
      ],
      "metadata": {
        "id": "bQAjiWZYHva2"
      },
      "execution_count": 5,
      "outputs": []
    },
    {
      "cell_type": "markdown",
      "source": [
        "TOPIC BLOG POST > [[OUTLINE > CREATE BLOG POST FROM OUTLINE]] > BLOG POST TEXT"
      ],
      "metadata": {
        "id": "N2wOpMmuIO2g"
      }
    },
    {
      "cell_type": "code",
      "source": [
        "template=\"Give me a simple bullet point outliine for a blog post on {topic}\"\n",
        "first_prompt=ChatPromptTemplate.from_template(template)\n",
        "chain_one=LLMChain(llm=llm,prompt=first_prompt)"
      ],
      "metadata": {
        "colab": {
          "base_uri": "https://localhost:8080/"
        },
        "id": "eKYT-cU-H5IL",
        "outputId": "467caabb-8436-4aee-d8fe-6b6ae6c718b0"
      },
      "execution_count": 31,
      "outputs": [
        {
          "output_type": "stream",
          "name": "stderr",
          "text": [
            "/usr/local/lib/python3.10/dist-packages/langchain_core/_api/deprecation.py:119: LangChainDeprecationWarning: The class `LLMChain` was deprecated in LangChain 0.1.17 and will be removed in 0.3.0. Use RunnableSequence, e.g., `prompt | llm` instead.\n",
            "  warn_deprecated(\n"
          ]
        }
      ]
    },
    {
      "cell_type": "code",
      "source": [
        "template2=\"Write a blog post using this outline {outline}\"\n",
        "second_prompt=ChatPromptTemplate.from_template(template2)\n",
        "chain_two=LLMChain(llm=llm,prompt=second_prompt)"
      ],
      "metadata": {
        "id": "uskQHL-6IjJb"
      },
      "execution_count": 32,
      "outputs": []
    },
    {
      "cell_type": "code",
      "source": [
        "parser = StrOutputParser()"
      ],
      "metadata": {
        "id": "mB86WQCeQjmi"
      },
      "execution_count": 27,
      "outputs": []
    },
    {
      "cell_type": "code",
      "source": [
        "full_chain = SimpleSequentialChain(chains=[chain_one,chain_two],verbose=True)"
      ],
      "metadata": {
        "id": "4JhhhaT4Kp-o"
      },
      "execution_count": 33,
      "outputs": []
    },
    {
      "cell_type": "code",
      "source": [
        "result=full_chain.invoke(\"Cheesecake\")"
      ],
      "metadata": {
        "colab": {
          "base_uri": "https://localhost:8080/"
        },
        "id": "FiSegx71OdQJ",
        "outputId": "b34b30e7-8035-4979-e63c-840dd02ff485"
      },
      "execution_count": 34,
      "outputs": [
        {
          "output_type": "stream",
          "name": "stdout",
          "text": [
            "\n",
            "\n",
            "\u001b[1m> Entering new SimpleSequentialChain chain...\u001b[0m\n",
            "\u001b[36;1m\u001b[1;3m- Introduction: Brief history of cheesecake and its popularity\n",
            "- Types of cheesecake: New York style, no-bake, baked, etc.\n",
            "- Ingredients for a classic cheesecake recipe\n",
            "- Step-by-step instructions for making a basic cheesecake\n",
            "- Tips and tricks for achieving the perfect cheesecake texture and flavor\n",
            "- Serving suggestions and topping ideas\n",
            "- Conclusion: Why cheesecake is a beloved dessert and how to customize it to suit your preferences\u001b[0m\n",
            "\u001b[33;1m\u001b[1;3mCheesecake is a dessert that has been enjoyed for centuries, with its origins dating back to ancient Greece. Over the years, this creamy and decadent treat has become a staple in many households and restaurants around the world. From its humble beginnings to its current status as a beloved dessert, cheesecake has certainly made its mark in the culinary world.\n",
            "\n",
            "There are several different types of cheesecake to choose from, each with their own unique characteristics. The most popular variety is the New York style cheesecake, which is dense and rich, with a smooth and creamy texture. Other popular types include no-bake cheesecake, which is made without eggs and is chilled instead of baked, and baked cheesecake, which is baked in the oven until set.\n",
            "\n",
            "To make a classic cheesecake, you will need ingredients such as cream cheese, sugar, eggs, sour cream, vanilla extract, and graham cracker crumbs for the crust. These simple ingredients come together to create a delicious and indulgent dessert that is sure to impress your family and friends.\n",
            "\n",
            "To make a basic cheesecake, start by preparing the crust and pressing it into the bottom of a springform pan. Next, beat the cream cheese and sugar together until smooth, then add in the eggs, sour cream, and vanilla extract. Pour the mixture over the crust and bake in a water bath until set. Once cooled, refrigerate the cheesecake for several hours before serving.\n",
            "\n",
            "Achieving the perfect texture and flavor for your cheesecake can be a bit tricky, but with a few tips and tricks, you can create a dessert that is sure to impress. Be sure to use room temperature ingredients, as this will help prevent lumps in your cheesecake batter. Additionally, avoid overmixing the batter, as this can cause the cheesecake to crack during baking. Finally, be sure to bake the cheesecake in a water bath to help prevent it from drying out.\n",
            "\n",
            "When it comes to serving your cheesecake, the possibilities are endless. You can top it with fresh fruit, chocolate ganache, caramel sauce, or whipped cream. Or, you can serve it plain for a simple and elegant dessert that speaks for itself.\n",
            "\n",
            "In conclusion, cheesecake is a beloved dessert that has stood the test of time. With its rich and creamy texture, it's no wonder why this dessert is so popular. Whether you prefer a classic New York style cheesecake or a no-bake version, there are endless ways to customize this dessert to suit your preferences. So gather your ingredients and get baking – your taste buds will thank you!\u001b[0m\n",
            "\n",
            "\u001b[1m> Finished chain.\u001b[0m\n"
          ]
        }
      ]
    }
  ]
}