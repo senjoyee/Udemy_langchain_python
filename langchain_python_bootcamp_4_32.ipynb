{
  "nbformat": 4,
  "nbformat_minor": 0,
  "metadata": {
    "colab": {
      "provenance": [],
      "authorship_tag": "ABX9TyNPo9I+1q0G96uF1/+fbvKV",
      "include_colab_link": true
    },
    "kernelspec": {
      "name": "python3",
      "display_name": "Python 3"
    },
    "language_info": {
      "name": "python"
    }
  },
  "cells": [
    {
      "cell_type": "markdown",
      "metadata": {
        "id": "view-in-github",
        "colab_type": "text"
      },
      "source": [
        "<a href=\"https://colab.research.google.com/github/senjoyee/udemy_langchain_python/blob/main/langchain_python_bootcamp_4_32.ipynb\" target=\"_parent\"><img src=\"https://colab.research.google.com/assets/colab-badge.svg\" alt=\"Open In Colab\"/></a>"
      ]
    },
    {
      "cell_type": "code",
      "execution_count": null,
      "metadata": {
        "id": "9-xeX4oV5SHI"
      },
      "outputs": [],
      "source": [
        "!pip install langchain\n",
        "!pip install -qU langchain-openai"
      ]
    },
    {
      "cell_type": "code",
      "source": [
        "from langchain_openai import OpenAIEmbeddings\n",
        "from langchain_openai import ChatOpenAI\n",
        "from langchain_core.prompts import ChatPromptTemplate, SystemMessagePromptTemplate, HumanMessagePromptTemplate\n",
        "from langchain_core.output_parsers import StrOutputParser"
      ],
      "metadata": {
        "id": "zvl6oG_V5rXi"
      },
      "execution_count": 25,
      "outputs": []
    },
    {
      "cell_type": "code",
      "source": [
        "from google.colab import userdata\n",
        "import os\n",
        "os.environ[\"OPENAI_API_KEY\"] = userdata.get('OPENAI_API_KEY')"
      ],
      "metadata": {
        "id": "rtWSX-Qu5vwc"
      },
      "execution_count": 3,
      "outputs": []
    },
    {
      "cell_type": "code",
      "source": [
        "from langchain.chains import LLMChain, SimpleSequentialChain"
      ],
      "metadata": {
        "id": "XTvORZORHfte"
      },
      "execution_count": 16,
      "outputs": []
    },
    {
      "cell_type": "code",
      "source": [
        "llm=ChatOpenAI()"
      ],
      "metadata": {
        "id": "bQAjiWZYHva2"
      },
      "execution_count": 5,
      "outputs": []
    },
    {
      "cell_type": "markdown",
      "source": [
        "TOPIC BLOG POST > [[OUTLINE > CREATE BLOG POST FROM OUTLINE]] > BLOG POST TEXT"
      ],
      "metadata": {
        "id": "N2wOpMmuIO2g"
      }
    },
    {
      "cell_type": "code",
      "source": [
        "template=\"Give me a simple bullet point outliine for a blog post on {topic}\"\n",
        "first_prompt=ChatPromptTemplate.from_template(template)\n",
        "chain_one=first_prompt|llm"
      ],
      "metadata": {
        "id": "eKYT-cU-H5IL"
      },
      "execution_count": 17,
      "outputs": []
    },
    {
      "cell_type": "code",
      "source": [
        "template2=\"Write a blog post using this outline {outline}\"\n",
        "second_prompt=ChatPromptTemplate.from_template(template2)\n",
        "chain_two=second_prompt|llm"
      ],
      "metadata": {
        "id": "uskQHL-6IjJb"
      },
      "execution_count": 18,
      "outputs": []
    },
    {
      "cell_type": "code",
      "source": [
        "parser = StrOutputParser()"
      ],
      "metadata": {
        "id": "mB86WQCeQjmi"
      },
      "execution_count": 27,
      "outputs": []
    },
    {
      "cell_type": "markdown",
      "source": [
        "Using LCEL"
      ],
      "metadata": {
        "id": "7PbLP1IIOZPT"
      }
    },
    {
      "cell_type": "code",
      "source": [
        "full_chain = chain_one | chain_two | parser"
      ],
      "metadata": {
        "id": "4JhhhaT4Kp-o"
      },
      "execution_count": 28,
      "outputs": []
    },
    {
      "cell_type": "code",
      "source": [
        "print(full_chain.invoke(\"Cheesecake\"))"
      ],
      "metadata": {
        "colab": {
          "base_uri": "https://localhost:8080/"
        },
        "id": "FiSegx71OdQJ",
        "outputId": "e13391a5-1761-42fa-b3bd-e9a601215711"
      },
      "execution_count": 30,
      "outputs": [
        {
          "output_type": "stream",
          "name": "stdout",
          "text": [
            "Cheesecake is a beloved dessert that has been enjoyed by people all over the world for centuries. Its creamy texture and rich flavor make it a popular choice for special occasions and everyday indulgences. In this blog post, we will explore the history of cheesecake, different types of cheesecake, tips for making the perfect cheesecake at home, creative topping and flavor ideas, the health benefits of eating cheesecake in moderation, and why cheesecake is a beloved dessert choice.\n",
            "\n",
            "**Introduction to Cheesecake and Its Popularity**\n",
            "\n",
            "Cheesecake is a decadent dessert made with cream cheese, eggs, sugar, and a graham cracker crust. It is baked until firm and then chilled before serving. Cheesecake is known for its creamy texture and rich flavor, making it a popular choice for dessert lovers everywhere. Whether topped with fruit, chocolate, or caramel, cheesecake is a versatile dessert that can be customized to suit any taste preference.\n",
            "\n",
            "**History of Cheesecake and Its Origins**\n",
            "\n",
            "The origins of cheesecake can be traced back to ancient Greece, where it was served to athletes during the first Olympic games in 776 BC. The ancient Greeks believed that cheesecake provided energy and was a source of strength. Cheesecake then spread to ancient Rome, where it was made with ricotta cheese instead of cream cheese. Over the centuries, cheesecake evolved into the dessert we know and love today.\n",
            "\n",
            "**Different Types of Cheesecake**\n",
            "\n",
            "There are many different types of cheesecake, including classic cheesecake, New York style cheesecake, no-bake cheesecake, and more. Classic cheesecake is made with a graham cracker crust and a creamy filling, while New York style cheesecake is denser and richer. No-bake cheesecake is made without baking and is a quick and easy dessert option.\n",
            "\n",
            "**Tips for Making the Perfect Cheesecake at Home**\n",
            "\n",
            "Making the perfect cheesecake at home can be a daunting task, but with a few tips and tricks, you can achieve cheesecake perfection. Some tips for making the perfect cheesecake at home include using room temperature ingredients, not overmixing the batter, and baking the cheesecake in a water bath to prevent cracking.\n",
            "\n",
            "**Creative Topping and Flavor Ideas for Cheesecake**\n",
            "\n",
            "Cheesecake is a versatile dessert that can be customized with a variety of toppings and flavors. Some creative topping and flavor ideas for cheesecake include fresh fruit, chocolate ganache, caramel sauce, and whipped cream. You can also experiment with different flavorings such as lemon, raspberry, or pumpkin spice.\n",
            "\n",
            "**Health Benefits of Eating Cheesecake in Moderation**\n",
            "\n",
            "While cheesecake is a decadent dessert, it can be enjoyed in moderation as part of a balanced diet. Cheesecake is a good source of calcium and protein, and can provide a satisfying treat without going overboard on calories. Just remember to enjoy cheesecake in moderation and balance it with plenty of fruits and vegetables.\n",
            "\n",
            "**Conclusion and Why Cheesecake is a Beloved Dessert Choice**\n",
            "\n",
            "In conclusion, cheesecake is a beloved dessert choice for people all over the world. Its creamy texture, rich flavor, and versatility make it a popular option for special occasions and everyday indulgences. Whether you prefer classic cheesecake, New York style cheesecake, or no-bake cheesecake, there is a cheesecake option for everyone. So why not treat yourself to a slice of cheesecake today and indulge in this delicious dessert?\n"
          ]
        }
      ]
    }
  ]
}