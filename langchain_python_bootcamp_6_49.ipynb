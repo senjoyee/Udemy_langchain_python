{
  "nbformat": 4,
  "nbformat_minor": 0,
  "metadata": {
    "colab": {
      "provenance": [],
      "authorship_tag": "ABX9TyPFAcb2A+G+1jBowhJK+AHH",
      "include_colab_link": true
    },
    "kernelspec": {
      "name": "python3",
      "display_name": "Python 3"
    },
    "language_info": {
      "name": "python"
    }
  },
  "cells": [
    {
      "cell_type": "markdown",
      "metadata": {
        "id": "view-in-github",
        "colab_type": "text"
      },
      "source": [
        "<a href=\"https://colab.research.google.com/github/senjoyee/udemy_langchain_python/blob/main/langchain_python_bootcamp_6_49.ipynb\" target=\"_parent\"><img src=\"https://colab.research.google.com/assets/colab-badge.svg\" alt=\"Open In Colab\"/></a>"
      ]
    },
    {
      "cell_type": "code",
      "execution_count": 1,
      "metadata": {
        "id": "MwUneC80MOzO"
      },
      "outputs": [],
      "source": [
        "!pip install -qU langchain\n",
        "!pip install -qU langchain-openai\n",
        "!pip install -qU langchain_community"
      ]
    },
    {
      "cell_type": "code",
      "source": [
        "from langchain_openai import ChatOpenAI\n",
        "from langchain.agents import load_tools, initialize_agent, AgentType"
      ],
      "metadata": {
        "id": "VPO4bY0_RT0f"
      },
      "execution_count": 11,
      "outputs": []
    },
    {
      "cell_type": "code",
      "source": [
        "from langchain.agents import tool"
      ],
      "metadata": {
        "id": "m1SPyPLuDXba"
      },
      "execution_count": 12,
      "outputs": []
    },
    {
      "cell_type": "code",
      "source": [
        "import os\n",
        "from google.colab import userdata\n",
        "os.environ[\"OPENAI_API_KEY\"] = userdata.get('OPENAI_API_KEY')"
      ],
      "metadata": {
        "id": "B27I3SeOMlWR"
      },
      "execution_count": 13,
      "outputs": []
    },
    {
      "cell_type": "code",
      "source": [
        "llm = ChatOpenAI(model=\"gpt-3.5-turbo\",temperature=0)"
      ],
      "metadata": {
        "id": "zjTuXqg45AKI"
      },
      "execution_count": 14,
      "outputs": []
    },
    {
      "cell_type": "code",
      "source": [
        "from langchain.memory import ConversationBufferMemory"
      ],
      "metadata": {
        "id": "YV2ov8mvOoTm"
      },
      "execution_count": 15,
      "outputs": []
    },
    {
      "cell_type": "code",
      "source": [
        "memory = ConversationBufferMemory(memory_key=\"chat_history\")"
      ],
      "metadata": {
        "id": "NQPoXJWKOtbt"
      },
      "execution_count": 19,
      "outputs": []
    },
    {
      "cell_type": "code",
      "source": [
        "llm = ChatOpenAI(temperature=0)\n",
        "tools = load_tools([\"llm-math\"], llm=llm)"
      ],
      "metadata": {
        "id": "iG04l1OgOwIO"
      },
      "execution_count": 17,
      "outputs": []
    },
    {
      "cell_type": "code",
      "source": [
        "agent = initialize_agent(tools,llm,agent=AgentType.CONVERSATIONAL_REACT_DESCRIPTION,memory=memory,verbose=True)"
      ],
      "metadata": {
        "id": "oTGKd0g9O8Fz"
      },
      "execution_count": 20,
      "outputs": []
    },
    {
      "cell_type": "code",
      "source": [
        "agent.run(input=\"What are some good Thai food recipes?\")"
      ],
      "metadata": {
        "colab": {
          "base_uri": "https://localhost:8080/",
          "height": 383
        },
        "id": "uyS12L_NcPNY",
        "outputId": "9519ed84-dbae-46bd-cec4-fb8dd8da4037"
      },
      "execution_count": 21,
      "outputs": [
        {
          "output_type": "stream",
          "name": "stderr",
          "text": [
            "/usr/local/lib/python3.10/dist-packages/langchain_core/_api/deprecation.py:119: LangChainDeprecationWarning: The method `Chain.run` was deprecated in langchain 0.1.0 and will be removed in 0.3.0. Use invoke instead.\n",
            "  warn_deprecated(\n"
          ]
        },
        {
          "output_type": "stream",
          "name": "stdout",
          "text": [
            "\n",
            "\n",
            "\u001b[1m> Entering new AgentExecutor chain...\u001b[0m\n",
            "\u001b[32;1m\u001b[1;3mThought: Do I need to use a tool? No\n",
            "AI: Here are some popular Thai food recipes you might enjoy:\n",
            "\n",
            "1. Pad Thai: A classic stir-fried noodle dish with a sweet and tangy sauce, usually made with shrimp, tofu, or chicken.\n",
            "2. Green Curry: A spicy and aromatic curry made with green curry paste, coconut milk, and vegetables or meat.\n",
            "3. Tom Yum Goong: A hot and sour soup with shrimp, lemongrass, kaffir lime leaves, and chili peppers.\n",
            "4. Som Tum: A refreshing and spicy green papaya salad with tomatoes, green beans, peanuts, and a tangy dressing.\n",
            "5. Massaman Curry: A rich and flavorful curry made with beef, potatoes, peanuts, and fragrant spices like cinnamon and cardamom.\n",
            "\n",
            "These are just a few examples of delicious Thai dishes you can try making at home! Enjoy cooking!\u001b[0m\n",
            "\n",
            "\u001b[1m> Finished chain.\u001b[0m\n"
          ]
        },
        {
          "output_type": "execute_result",
          "data": {
            "text/plain": [
              "'Here are some popular Thai food recipes you might enjoy:\\n\\n1. Pad Thai: A classic stir-fried noodle dish with a sweet and tangy sauce, usually made with shrimp, tofu, or chicken.\\n2. Green Curry: A spicy and aromatic curry made with green curry paste, coconut milk, and vegetables or meat.\\n3. Tom Yum Goong: A hot and sour soup with shrimp, lemongrass, kaffir lime leaves, and chili peppers.\\n4. Som Tum: A refreshing and spicy green papaya salad with tomatoes, green beans, peanuts, and a tangy dressing.\\n5. Massaman Curry: A rich and flavorful curry made with beef, potatoes, peanuts, and fragrant spices like cinnamon and cardamom.\\n\\nThese are just a few examples of delicious Thai dishes you can try making at home! Enjoy cooking!'"
            ],
            "application/vnd.google.colaboratory.intrinsic+json": {
              "type": "string"
            }
          },
          "metadata": {},
          "execution_count": 21
        }
      ]
    },
    {
      "cell_type": "code",
      "source": [
        "agent.run(input=\"Which one of those dishes tends to be the spiciest?\")"
      ],
      "metadata": {
        "colab": {
          "base_uri": "https://localhost:8080/",
          "height": 194
        },
        "id": "SYIeAwDAcbvw",
        "outputId": "b7fef482-be07-44c9-8e61-3f6a5858b14a"
      },
      "execution_count": 22,
      "outputs": [
        {
          "output_type": "stream",
          "name": "stdout",
          "text": [
            "\n",
            "\n",
            "\u001b[1m> Entering new AgentExecutor chain...\u001b[0m\n",
            "\u001b[32;1m\u001b[1;3mThought: Do I need to use a tool? No\n",
            "AI: Among the dishes I mentioned, Green Curry and Tom Yum Goong are typically the spiciest. Green Curry is made with green curry paste, which contains green chilies, while Tom Yum Goong is a hot and sour soup that often includes chili peppers. Both dishes can be quite spicy, so if you enjoy spicy food, you might want to give them a try!\u001b[0m\n",
            "\n",
            "\u001b[1m> Finished chain.\u001b[0m\n"
          ]
        },
        {
          "output_type": "execute_result",
          "data": {
            "text/plain": [
              "'Among the dishes I mentioned, Green Curry and Tom Yum Goong are typically the spiciest. Green Curry is made with green curry paste, which contains green chilies, while Tom Yum Goong is a hot and sour soup that often includes chili peppers. Both dishes can be quite spicy, so if you enjoy spicy food, you might want to give them a try!'"
            ],
            "application/vnd.google.colaboratory.intrinsic+json": {
              "type": "string"
            }
          },
          "metadata": {},
          "execution_count": 22
        }
      ]
    },
    {
      "cell_type": "code",
      "source": [
        "agent.run(\"Give me a grocery shopping list for that dish\")"
      ],
      "metadata": {
        "colab": {
          "base_uri": "https://localhost:8080/",
          "height": 417
        },
        "id": "Caqcaev_ckHp",
        "outputId": "6e2aa82c-e5e6-4b73-dfec-b28c8363c0bb"
      },
      "execution_count": 23,
      "outputs": [
        {
          "output_type": "stream",
          "name": "stdout",
          "text": [
            "\n",
            "\n",
            "\u001b[1m> Entering new AgentExecutor chain...\u001b[0m\n",
            "\u001b[32;1m\u001b[1;3mThought: Do I need to use a tool? No\n",
            "AI: Here is a grocery shopping list for making Green Curry:\n",
            "\n",
            "1. Green curry paste\n",
            "2. Coconut milk\n",
            "3. Vegetables (such as bell peppers, eggplant, and bamboo shoots)\n",
            "4. Protein (such as chicken, shrimp, or tofu)\n",
            "5. Fish sauce\n",
            "6. Sugar\n",
            "7. Thai basil leaves\n",
            "8. Kaffir lime leaves\n",
            "9. Thai chilies (optional for extra spiciness)\n",
            "10. Jasmine rice (to serve with the curry)\n",
            "\n",
            "These ingredients should help you make a delicious and spicy Green Curry at home! Enjoy cooking!\u001b[0m\n",
            "\n",
            "\u001b[1m> Finished chain.\u001b[0m\n"
          ]
        },
        {
          "output_type": "execute_result",
          "data": {
            "text/plain": [
              "'Here is a grocery shopping list for making Green Curry:\\n\\n1. Green curry paste\\n2. Coconut milk\\n3. Vegetables (such as bell peppers, eggplant, and bamboo shoots)\\n4. Protein (such as chicken, shrimp, or tofu)\\n5. Fish sauce\\n6. Sugar\\n7. Thai basil leaves\\n8. Kaffir lime leaves\\n9. Thai chilies (optional for extra spiciness)\\n10. Jasmine rice (to serve with the curry)\\n\\nThese ingredients should help you make a delicious and spicy Green Curry at home! Enjoy cooking!'"
            ],
            "application/vnd.google.colaboratory.intrinsic+json": {
              "type": "string"
            }
          },
          "metadata": {},
          "execution_count": 23
        }
      ]
    }
  ]
}