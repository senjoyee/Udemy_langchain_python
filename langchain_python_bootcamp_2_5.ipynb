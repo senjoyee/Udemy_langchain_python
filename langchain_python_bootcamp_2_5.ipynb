{
  "nbformat": 4,
  "nbformat_minor": 0,
  "metadata": {
    "colab": {
      "provenance": [],
      "authorship_tag": "ABX9TyNNh1F7isVaSoLflGWx6uB/",
      "include_colab_link": true
    },
    "kernelspec": {
      "name": "python3",
      "display_name": "Python 3"
    },
    "language_info": {
      "name": "python"
    }
  },
  "cells": [
    {
      "cell_type": "markdown",
      "metadata": {
        "id": "view-in-github",
        "colab_type": "text"
      },
      "source": [
        "<a href=\"https://colab.research.google.com/github/senjoyee/udemy_langchain_python/blob/main/langchain_python_bootcamp_2_5.ipynb\" target=\"_parent\"><img src=\"https://colab.research.google.com/assets/colab-badge.svg\" alt=\"Open In Colab\"/></a>"
      ]
    },
    {
      "cell_type": "code",
      "source": [
        "!pip install langchain\n",
        "!pip install langchain-openai"
      ],
      "metadata": {
        "id": "uYr1JmrF5ypm"
      },
      "execution_count": null,
      "outputs": []
    },
    {
      "cell_type": "code",
      "execution_count": 2,
      "metadata": {
        "id": "HZcR3V7k3jch"
      },
      "outputs": [],
      "source": [
        "from langchain_openai import OpenAI"
      ]
    },
    {
      "cell_type": "code",
      "source": [
        "from google.colab import userdata"
      ],
      "metadata": {
        "id": "0n4S6h815-xW"
      },
      "execution_count": 3,
      "outputs": []
    },
    {
      "cell_type": "code",
      "source": [
        "api_key = userdata.get('OPENAI_API_KEY')"
      ],
      "metadata": {
        "id": "IDNfiNFc7DhM"
      },
      "execution_count": 4,
      "outputs": []
    },
    {
      "cell_type": "code",
      "source": [
        "llm = OpenAI(openai_api_key=api_key)"
      ],
      "metadata": {
        "id": "xcooLZoy7P7V"
      },
      "execution_count": 5,
      "outputs": []
    },
    {
      "cell_type": "code",
      "source": [
        "print(llm.invoke(\"Here is a fun fact about Pluto:\"))"
      ],
      "metadata": {
        "id": "-tKv0f9p8B7J",
        "colab": {
          "base_uri": "https://localhost:8080/"
        },
        "outputId": "65193ae8-23ea-4806-ba23-a4aa20cc1fe9"
      },
      "execution_count": 6,
      "outputs": [
        {
          "output_type": "stream",
          "name": "stdout",
          "text": [
            "\n",
            "\n",
            "Pluto was named by an 11-year-old girl named Venetia Burney in 1930. She suggested the name after the Roman god of the underworld, as Pluto is the furthest known planet from the sun and is often associated with darkness and cold.\n"
          ]
        }
      ]
    },
    {
      "cell_type": "code",
      "source": [
        "result_gen = llm.generate(['Here is a fact about Pluto:','Here is a fact about Mars'])"
      ],
      "metadata": {
        "id": "gNmaD4HN8dZE"
      },
      "execution_count": 7,
      "outputs": []
    },
    {
      "cell_type": "code",
      "source": [
        "result_gen.schema()"
      ],
      "metadata": {
        "id": "PnIuxONw80WW",
        "colab": {
          "base_uri": "https://localhost:8080/"
        },
        "collapsed": true,
        "outputId": "8f7c7f24-c338-49da-c535-ef11c5d93318"
      },
      "execution_count": 8,
      "outputs": [
        {
          "output_type": "execute_result",
          "data": {
            "text/plain": [
              "{'title': 'LLMResult',\n",
              " 'description': 'Class that contains all results for a batched LLM call.',\n",
              " 'type': 'object',\n",
              " 'properties': {'generations': {'title': 'Generations',\n",
              "   'type': 'array',\n",
              "   'items': {'type': 'array', 'items': {'$ref': '#/definitions/Generation'}}},\n",
              "  'llm_output': {'title': 'Llm Output', 'type': 'object'},\n",
              "  'run': {'title': 'Run',\n",
              "   'type': 'array',\n",
              "   'items': {'$ref': '#/definitions/RunInfo'}}},\n",
              " 'required': ['generations'],\n",
              " 'definitions': {'Generation': {'title': 'Generation',\n",
              "   'description': 'A single text generation output.',\n",
              "   'type': 'object',\n",
              "   'properties': {'text': {'title': 'Text', 'type': 'string'},\n",
              "    'generation_info': {'title': 'Generation Info', 'type': 'object'},\n",
              "    'type': {'title': 'Type',\n",
              "     'default': 'Generation',\n",
              "     'enum': ['Generation'],\n",
              "     'type': 'string'}},\n",
              "   'required': ['text']},\n",
              "  'RunInfo': {'title': 'RunInfo',\n",
              "   'description': 'Class that contains metadata for a single execution of a Chain or model.',\n",
              "   'type': 'object',\n",
              "   'properties': {'run_id': {'title': 'Run Id',\n",
              "     'type': 'string',\n",
              "     'format': 'uuid'}},\n",
              "   'required': ['run_id']}}}"
            ]
          },
          "metadata": {},
          "execution_count": 8
        }
      ]
    },
    {
      "cell_type": "code",
      "source": [
        "result_gen.llm_output"
      ],
      "metadata": {
        "id": "8d8mCQAO8-1n",
        "colab": {
          "base_uri": "https://localhost:8080/"
        },
        "collapsed": true,
        "outputId": "4b199a19-5ecc-4795-e313-25a00c9be003"
      },
      "execution_count": 9,
      "outputs": [
        {
          "output_type": "execute_result",
          "data": {
            "text/plain": [
              "{'token_usage': {'total_tokens': 181,\n",
              "  'completion_tokens': 168,\n",
              "  'prompt_tokens': 13},\n",
              " 'model_name': 'gpt-3.5-turbo-instruct'}"
            ]
          },
          "metadata": {},
          "execution_count": 9
        }
      ]
    },
    {
      "cell_type": "code",
      "source": [
        "result_gen.generations"
      ],
      "metadata": {
        "id": "GcS-nZvQ9Ic1",
        "colab": {
          "base_uri": "https://localhost:8080/"
        },
        "outputId": "741738ea-e32c-4cf3-e0aa-6bed3135626a"
      },
      "execution_count": 10,
      "outputs": [
        {
          "output_type": "execute_result",
          "data": {
            "text/plain": [
              "[[Generation(text=' Pluto is no longer considered a planet by the International Astronomical Union. In 2006, it was reclassified as a \"dwarf planet\" due to its small size and orbit.', generation_info={'finish_reason': 'stop', 'logprobs': None})],\n",
              " [Generation(text=': Mars is the fourth planet from the Sun in our solar system and is often referred to as the \"Red Planet\" due to its reddish appearance caused by iron oxide on its surface. It is also the second smallest planet in our solar system, after Mercury, and has a thin atmosphere made mostly of carbon dioxide. Mars has two small moons, Phobos and Deimos, and is known for its large dust storms that can cover the entire planet. NASA has sent several rovers to explore the surface of Mars, with the most recent being the Perseverance rover, which landed successfully on February 18, 2021.', generation_info={'finish_reason': 'stop', 'logprobs': None})]]"
            ]
          },
          "metadata": {},
          "execution_count": 10
        }
      ]
    },
    {
      "cell_type": "code",
      "source": [
        "print(result_gen.generations[1][0].text)"
      ],
      "metadata": {
        "id": "8XIDVSHL9YdN",
        "colab": {
          "base_uri": "https://localhost:8080/"
        },
        "outputId": "1dd1aa25-7597-4b50-e3ca-82348e2be81c"
      },
      "execution_count": 11,
      "outputs": [
        {
          "output_type": "stream",
          "name": "stdout",
          "text": [
            ": Mars is the fourth planet from the Sun in our solar system and is often referred to as the \"Red Planet\" due to its reddish appearance caused by iron oxide on its surface. It is also the second smallest planet in our solar system, after Mercury, and has a thin atmosphere made mostly of carbon dioxide. Mars has two small moons, Phobos and Deimos, and is known for its large dust storms that can cover the entire planet. NASA has sent several rovers to explore the surface of Mars, with the most recent being the Perseverance rover, which landed successfully on February 18, 2021.\n"
          ]
        }
      ]
    },
    {
      "cell_type": "code",
      "source": [
        "from langchain_openai import ChatOpenAI"
      ],
      "metadata": {
        "id": "DSrM44J9NwRB"
      },
      "execution_count": 12,
      "outputs": []
    },
    {
      "cell_type": "code",
      "source": [
        "chat = ChatOpenAI(openai_api_key=api_key)"
      ],
      "metadata": {
        "id": "s4e3FywUN40J"
      },
      "execution_count": 13,
      "outputs": []
    },
    {
      "cell_type": "code",
      "source": [
        "from langchain.schema import AIMessage, HumanMessage, SystemMessage"
      ],
      "metadata": {
        "id": "BnXcqfK2OMm8"
      },
      "execution_count": 14,
      "outputs": []
    },
    {
      "cell_type": "code",
      "source": [
        "result_chat = chat.generate([\n",
        "                    [SystemMessage(content=\"You are a very rude teenager who only wants to party and not answer questions\"),\n",
        "                    HumanMessage(content=\"Tell me a fact abut Pluto\")],\n",
        "                    [SystemMessage(content=\"You are a world class teacher\"),\n",
        "                    HumanMessage(content=\"Explain the concept of photosynthesis\")]\n",
        "                    ])"
      ],
      "metadata": {
        "id": "Nm_FVTC5OdkV"
      },
      "execution_count": 15,
      "outputs": []
    },
    {
      "cell_type": "code",
      "source": [
        "result_chat.llm_output"
      ],
      "metadata": {
        "colab": {
          "base_uri": "https://localhost:8080/"
        },
        "id": "AH2_OPIFOsE6",
        "outputId": "ac00b674-05d0-4f56-f60c-942b1dc9cdc3"
      },
      "execution_count": 16,
      "outputs": [
        {
          "output_type": "execute_result",
          "data": {
            "text/plain": [
              "{'token_usage': {'completion_tokens': 307,\n",
              "  'prompt_tokens': 57,\n",
              "  'total_tokens': 364},\n",
              " 'model_name': 'gpt-3.5-turbo'}"
            ]
          },
          "metadata": {},
          "execution_count": 16
        }
      ]
    },
    {
      "cell_type": "code",
      "source": [
        "print(result_chat.generations[1][0].text)"
      ],
      "metadata": {
        "id": "4t1cMQQtO-7t",
        "colab": {
          "base_uri": "https://localhost:8080/"
        },
        "outputId": "0241505c-7309-4720-ac74-0c8c422152ec"
      },
      "execution_count": 17,
      "outputs": [
        {
          "output_type": "stream",
          "name": "stdout",
          "text": [
            "Photosynthesis is a biological process that occurs in plants, algae, and some bacteria, where light energy is converted into chemical energy in the form of glucose. This process is essential for the survival of these organisms and plays a crucial role in the Earth's ecosystem.\n",
            "\n",
            "During photosynthesis, plants use sunlight, carbon dioxide, and water to produce glucose and oxygen. The process takes place in the chloroplasts of plant cells, specifically in the chlorophyll molecules. Chlorophyll is a pigment that absorbs sunlight and gives plants their green color.\n",
            "\n",
            "The overall equation for photosynthesis is:\n",
            "\n",
            "6CO2 + 6H2O + light energy → C6H12O6 + 6O2\n",
            "\n",
            "In this equation, carbon dioxide (CO2) and water (H2O) are converted into glucose (C6H12O6) and oxygen (O2) with the help of sunlight. The glucose produced during photosynthesis is used by the plant as an energy source for growth and metabolism, while the oxygen is released into the atmosphere as a byproduct, which is essential for respiration in animals and other organisms.\n",
            "\n",
            "Photosynthesis is a vital process that sustains life on Earth by providing oxygen for respiration and serving as the foundation of the food chain. It also helps regulate the amount of carbon dioxide in the atmosphere, contributing to the balance of gases that support life on our planet.\n"
          ]
        }
      ]
    },
    {
      "cell_type": "code",
      "source": [
        "result_chat_1 = chat.invoke([SystemMessage(content=\"You are a world class teacher\"),\n",
        "                    HumanMessage(content=\"Explain the concept of photosynthesis\")],\n",
        "                     temperature=0,presence_penalty=2,max_tokens=50)"
      ],
      "metadata": {
        "id": "oV5viMRySkq8"
      },
      "execution_count": 24,
      "outputs": []
    },
    {
      "cell_type": "code",
      "source": [
        "result_chat_1.content"
      ],
      "metadata": {
        "colab": {
          "base_uri": "https://localhost:8080/",
          "height": 53
        },
        "id": "FCcHiaKBO5O8",
        "outputId": "dd70dfd1-5772-41a9-9f2f-5b23993b5d7a"
      },
      "execution_count": 19,
      "outputs": [
        {
          "output_type": "execute_result",
          "data": {
            "text/plain": [
              "'Photosynthesis is the process by which green plants, algae, and some bacteria convert light energy from the sun into chemical energy in the form of glucose. This process occurs in the chloroplasts of plant cells.\\n\\nDuring photosynthesis, plants take in carbon'"
            ],
            "application/vnd.google.colaboratory.intrinsic+json": {
              "type": "string"
            }
          },
          "metadata": {},
          "execution_count": 19
        }
      ]
    },
    {
      "cell_type": "code",
      "source": [
        "import langchain\n",
        "from langchain.cache import InMemoryCache\n",
        "langchain.llm_cache = InMemoryCache()"
      ],
      "metadata": {
        "id": "1ES2mWmVTwJY"
      },
      "execution_count": 20,
      "outputs": []
    },
    {
      "cell_type": "code",
      "source": [
        "print(llm.invoke(\"Tell me a fact about Mars\"))"
      ],
      "metadata": {
        "colab": {
          "base_uri": "https://localhost:8080/"
        },
        "id": "s5GviPP6UHCN",
        "outputId": "d2c363f2-5966-4ba4-8cb1-1e473fe64e45"
      },
      "execution_count": 23,
      "outputs": [
        {
          "output_type": "stream",
          "name": "stdout",
          "text": [
            "\n",
            "\n",
            "Mars is the fourth planet from the Sun in our solar system and is often referred to as the \"Red Planet\" due to its reddish appearance. This is because of the high iron oxide (rust) content in its soil and rocks.\n"
          ]
        }
      ]
    }
  ]
}