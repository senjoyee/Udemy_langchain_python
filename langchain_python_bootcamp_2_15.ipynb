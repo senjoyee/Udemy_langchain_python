{
  "nbformat": 4,
  "nbformat_minor": 0,
  "metadata": {
    "colab": {
      "provenance": [],
      "authorship_tag": "ABX9TyMlnGwsfbaQMupBSrC/3KKA",
      "include_colab_link": true
    },
    "kernelspec": {
      "name": "python3",
      "display_name": "Python 3"
    },
    "language_info": {
      "name": "python"
    }
  },
  "cells": [
    {
      "cell_type": "markdown",
      "metadata": {
        "id": "view-in-github",
        "colab_type": "text"
      },
      "source": [
        "<a href=\"https://colab.research.google.com/github/senjoyee/udemy_langchain_python/blob/main/langchain_python_bootcamp_2_15.ipynb\" target=\"_parent\"><img src=\"https://colab.research.google.com/assets/colab-badge.svg\" alt=\"Open In Colab\"/></a>"
      ]
    },
    {
      "cell_type": "code",
      "execution_count": null,
      "metadata": {
        "id": "x6zWh7EETtD7"
      },
      "outputs": [],
      "source": [
        "!pip install -qU langchain-openai\n",
        "!pip install pydantic\n",
        "!pip install langchain"
      ]
    },
    {
      "cell_type": "code",
      "source": [
        "from langchain_openai import ChatOpenAI\n",
        "from langchain_core.messages import HumanMessage, SystemMessage\n",
        "from langchain_core.output_parsers import StrOutputParser\n",
        "from langchain_core.output_parsers import CommaSeparatedListOutputParser\n",
        "from langchain_core.prompts import ChatPromptTemplate, SystemMessagePromptTemplate, HumanMessagePromptTemplate,AIMessagePromptTemplate\n",
        "from google.colab import userdata\n",
        "from datetime import datetime"
      ],
      "metadata": {
        "id": "-BvJXyxBUQvb"
      },
      "execution_count": null,
      "outputs": []
    },
    {
      "cell_type": "code",
      "source": [
        "from langchain.output_parsers import DatetimeOutputParser"
      ],
      "metadata": {
        "id": "yNM5JGE6UZCK"
      },
      "execution_count": null,
      "outputs": []
    },
    {
      "cell_type": "code",
      "source": [
        "import os\n",
        "os.environ[\"OPENAI_API_KEY\"] = userdata.get('OPENAI_API_KEY')\n",
        "model = ChatOpenAI(model=\"gpt-3.5-turbo\")"
      ],
      "metadata": {
        "id": "34ZcHKe5XUMa"
      },
      "execution_count": null,
      "outputs": []
    },
    {
      "cell_type": "code",
      "source": [
        "date_parser = DatetimeOutputParser()"
      ],
      "metadata": {
        "id": "Ry49G-LvXaK_"
      },
      "execution_count": null,
      "outputs": []
    },
    {
      "cell_type": "code",
      "source": [
        "class HistoryQuiz():\n",
        "  def create_history_question(self,topic):\n",
        "    human_template = \"Ask a question about {topic}\"\n",
        "    human_template = human_template\n",
        "    system_template = \"You are a history quiz expert. You have to ask a question. The question should be a date.\"\n",
        "    chat_prompt = ChatPromptTemplate.from_messages(\n",
        "        [(\"system\", system_template),(\"user\", human_template)]\n",
        "        )\n",
        "    request = chat_prompt.format_prompt(topic=topic).to_messages()\n",
        "    question = model.invoke(request)\n",
        "    return question.content\n",
        "  def get_AI_answer(self,question):\n",
        "    parser = DatetimeOutputParser()\n",
        "    system_template = \"Answer the question with just a date\"\n",
        "    human_template = \"{question}/n{format_instructions}\"\n",
        "    chat_prompt = ChatPromptTemplate.from_messages([(\"system\",system_template),(\"user\",human_template)])\n",
        "    request = chat_prompt.format_prompt(question=question, format_instructions=parser.get_format_instructions())\n",
        "    answer = model.invoke(request)\n",
        "    return parser.parse(answer.content)\n",
        "  def get_user_answer(self,question):\n",
        "    print(question)\n",
        "    print(\"\\n\")\n",
        "    year =int(input(\"Enter the year: \"))\n",
        "    month = int(input(\"Enter the month(1-12): \"))\n",
        "    day = int(input(\"Enter the day(1-31): \"))\n",
        "    user_datetime = datetime(year,month,day)\n",
        "    return user_datetime\n",
        "  def check_user_answer(self,user_answer,ai_answer):\n",
        "    difference = user_answer - ai_answer\n",
        "    formatted_difference = str(difference)\n",
        "    print(\"The difference between answer and your guess:\",formatted_difference)\n",
        "\n",
        "\n"
      ],
      "metadata": {
        "id": "NMJPbijfXIK7"
      },
      "execution_count": null,
      "outputs": []
    },
    {
      "cell_type": "code",
      "source": [
        "quiz_bot = HistoryQuiz()"
      ],
      "metadata": {
        "id": "CU5XWWR6d-O6"
      },
      "execution_count": null,
      "outputs": []
    },
    {
      "cell_type": "code",
      "source": [
        "question = quiz_bot.create_history_question(topic=\"World War 2\")"
      ],
      "metadata": {
        "id": "HNs22EiSed1r"
      },
      "execution_count": null,
      "outputs": []
    },
    {
      "cell_type": "code",
      "source": [
        "question"
      ],
      "metadata": {
        "colab": {
          "base_uri": "https://localhost:8080/",
          "height": 35
        },
        "id": "Hp6o2l8aghpm",
        "outputId": "67753a76-86cb-4e6b-f3e1-439542f66b5d"
      },
      "execution_count": null,
      "outputs": [
        {
          "output_type": "execute_result",
          "data": {
            "text/plain": [
              "'On what date did the attack on Pearl Harbor occur, bringing the United States into World War II?'"
            ],
            "application/vnd.google.colaboratory.intrinsic+json": {
              "type": "string"
            }
          },
          "metadata": {},
          "execution_count": 59
        }
      ]
    },
    {
      "cell_type": "code",
      "source": [
        "ai_answer = quiz_bot.get_AI_answer(question)"
      ],
      "metadata": {
        "id": "SuwAE_WPznl4"
      },
      "execution_count": null,
      "outputs": []
    },
    {
      "cell_type": "code",
      "source": [
        "ai_answer"
      ],
      "metadata": {
        "colab": {
          "base_uri": "https://localhost:8080/"
        },
        "id": "rKeKN-y1zx3o",
        "outputId": "d8b281ec-0061-4edd-e0b9-ea3f8faeff4c"
      },
      "execution_count": null,
      "outputs": [
        {
          "output_type": "execute_result",
          "data": {
            "text/plain": [
              "datetime.datetime(1941, 12, 7, 0, 0)"
            ]
          },
          "metadata": {},
          "execution_count": 61
        }
      ]
    },
    {
      "cell_type": "code",
      "source": [
        "user_answer = quiz_bot.get_user_answer(question)"
      ],
      "metadata": {
        "colab": {
          "base_uri": "https://localhost:8080/"
        },
        "id": "3TAuFo9GCVkW",
        "outputId": "8a5cbd7f-a276-49c0-f97c-d53e5db6eec5"
      },
      "execution_count": null,
      "outputs": [
        {
          "name": "stdout",
          "output_type": "stream",
          "text": [
            "On what date did the attack on Pearl Harbor occur, bringing the United States into World War II?\n",
            "\n",
            "\n",
            "Enter the year: 1941\n",
            "Enter the month(1-12): 7\n",
            "Enter the day(1-31): 15\n"
          ]
        }
      ]
    },
    {
      "cell_type": "code",
      "source": [
        "user_answer"
      ],
      "metadata": {
        "colab": {
          "base_uri": "https://localhost:8080/"
        },
        "id": "V0A31nFGCiX1",
        "outputId": "dc1be539-4727-4073-c160-574c5bcf3aff"
      },
      "execution_count": null,
      "outputs": [
        {
          "output_type": "execute_result",
          "data": {
            "text/plain": [
              "datetime.datetime(1941, 7, 15, 0, 0)"
            ]
          },
          "metadata": {},
          "execution_count": 63
        }
      ]
    },
    {
      "cell_type": "code",
      "source": [
        "quiz_bot.check_user_answer(user_answer,ai_answer)"
      ],
      "metadata": {
        "colab": {
          "base_uri": "https://localhost:8080/"
        },
        "id": "dwtImijpCkeI",
        "outputId": "29ac5dc8-7eba-4f98-a2ea-f9d737c6e72c"
      },
      "execution_count": null,
      "outputs": [
        {
          "output_type": "stream",
          "name": "stdout",
          "text": [
            "The difference between answer and your guess: -145 days, 0:00:00\n"
          ]
        }
      ]
    }
  ]
}