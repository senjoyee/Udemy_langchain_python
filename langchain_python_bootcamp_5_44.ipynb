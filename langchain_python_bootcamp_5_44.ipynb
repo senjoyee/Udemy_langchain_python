{
  "nbformat": 4,
  "nbformat_minor": 0,
  "metadata": {
    "colab": {
      "provenance": [],
      "authorship_tag": "ABX9TyO+SbjCAuKE9EsKpgWMMSN2",
      "include_colab_link": true
    },
    "kernelspec": {
      "name": "python3",
      "display_name": "Python 3"
    },
    "language_info": {
      "name": "python"
    }
  },
  "cells": [
    {
      "cell_type": "markdown",
      "metadata": {
        "id": "view-in-github",
        "colab_type": "text"
      },
      "source": [
        "<a href=\"https://colab.research.google.com/github/senjoyee/udemy_langchain_python/blob/main/langchain_python_bootcamp_5_44.ipynb\" target=\"_parent\"><img src=\"https://colab.research.google.com/assets/colab-badge.svg\" alt=\"Open In Colab\"/></a>"
      ]
    },
    {
      "cell_type": "code",
      "execution_count": null,
      "metadata": {
        "id": "MwUneC80MOzO"
      },
      "outputs": [],
      "source": [
        "!pip install langchain --quiet\n",
        "!pip install -qU langchain-openai --quiet"
      ]
    },
    {
      "cell_type": "code",
      "source": [
        "!pip install langchain_community --quiet"
      ],
      "metadata": {
        "id": "e-_eGKekMyxX",
        "colab": {
          "base_uri": "https://localhost:8080/"
        },
        "outputId": "96257d00-2428-4165-ebbc-c3fa3ac8b9c7"
      },
      "execution_count": 2,
      "outputs": [
        {
          "output_type": "stream",
          "name": "stdout",
          "text": [
            "\u001b[2K     \u001b[90m━━━━━━━━━━━━━━━━━━━━━━━━━━━━━━━━━━━━━━━━\u001b[0m \u001b[32m2.1/2.1 MB\u001b[0m \u001b[31m8.1 MB/s\u001b[0m eta \u001b[36m0:00:00\u001b[0m\n",
            "\u001b[?25h"
          ]
        }
      ]
    },
    {
      "cell_type": "code",
      "source": [
        "from langchain_openai import ChatOpenAI"
      ],
      "metadata": {
        "id": "VPO4bY0_RT0f"
      },
      "execution_count": 3,
      "outputs": []
    },
    {
      "cell_type": "code",
      "source": [
        "import os\n",
        "from google.colab import userdata\n",
        "os.environ[\"OPENAI_API_KEY\"] = userdata.get('OPENAI_API_KEY')"
      ],
      "metadata": {
        "id": "B27I3SeOMlWR"
      },
      "execution_count": 4,
      "outputs": []
    },
    {
      "cell_type": "code",
      "source": [
        "from langchain.chains import ConversationChain"
      ],
      "metadata": {
        "id": "Uibjl7n2MnK-"
      },
      "execution_count": 5,
      "outputs": []
    },
    {
      "cell_type": "code",
      "source": [
        "from langchain.memory import ConversationBufferWindowMemory"
      ],
      "metadata": {
        "id": "R4eMF6cINFY5"
      },
      "execution_count": 6,
      "outputs": []
    },
    {
      "cell_type": "code",
      "source": [
        "llm = ChatOpenAI(model=\"gpt-3.5-turbo-0125\")\n",
        "memory = ConversationBufferWindowMemory(k=1)\n",
        "conversation = ConversationChain(llm=llm,memory=memory)"
      ],
      "metadata": {
        "id": "49BQqruAFAt_"
      },
      "execution_count": 15,
      "outputs": []
    },
    {
      "cell_type": "code",
      "source": [
        "conversation.predict(input=\"Hello how are you?\")"
      ],
      "metadata": {
        "colab": {
          "base_uri": "https://localhost:8080/",
          "height": 35
        },
        "id": "6GcSmDQbFREL",
        "outputId": "94cf7069-fe98-4928-d1de-31a5bd84e82f"
      },
      "execution_count": 17,
      "outputs": [
        {
          "output_type": "execute_result",
          "data": {
            "text/plain": [
              "\"Hello! I'm doing well, thank you for asking. How can I assist you today?\""
            ],
            "application/vnd.google.colaboratory.intrinsic+json": {
              "type": "string"
            }
          },
          "metadata": {},
          "execution_count": 17
        }
      ]
    },
    {
      "cell_type": "code",
      "source": [
        "conversation.predict(input=\"Tell me a math fact\")"
      ],
      "metadata": {
        "colab": {
          "base_uri": "https://localhost:8080/",
          "height": 53
        },
        "id": "sWLhynzZFZGz",
        "outputId": "43def1c8-2d15-41e1-8f4b-1dc29f654f62"
      },
      "execution_count": 18,
      "outputs": [
        {
          "output_type": "execute_result",
          "data": {
            "text/plain": [
              "\"Sure! Did you know that the Fibonacci sequence is a series of numbers in which each number is the sum of the two preceding ones? It starts with 0 and 1, and then each subsequent number is the sum of the two before it. The sequence goes like this: 0, 1, 1, 2, 3, 5, 8, 13, 21, and so on. It's a fascinating pattern in mathematics!\""
            ],
            "application/vnd.google.colaboratory.intrinsic+json": {
              "type": "string"
            }
          },
          "metadata": {},
          "execution_count": 18
        }
      ]
    },
    {
      "cell_type": "code",
      "source": [
        "conversation.predict(input=\"Tell me a fact about Mars\")"
      ],
      "metadata": {
        "colab": {
          "base_uri": "https://localhost:8080/",
          "height": 70
        },
        "id": "hnoU3jmyFnuL",
        "outputId": "5b7f03ea-f22d-45de-99e3-9c2a3a729e76"
      },
      "execution_count": 19,
      "outputs": [
        {
          "output_type": "execute_result",
          "data": {
            "text/plain": [
              "'Mars is the fourth planet from the Sun in our solar system and is often referred to as the \"Red Planet\" due to its reddish appearance. It has a thin atmosphere primarily composed of carbon dioxide, with surface features such as volcanoes, valleys, deserts, and polar ice caps. Mars has two moons, Phobos and Deimos, which are much smaller than Earth\\'s moon. The planet has been a subject of interest for exploration and potential colonization by humans in the future.'"
            ],
            "application/vnd.google.colaboratory.intrinsic+json": {
              "type": "string"
            }
          },
          "metadata": {},
          "execution_count": 19
        }
      ]
    },
    {
      "cell_type": "code",
      "source": [
        "print(memory.buffer)"
      ],
      "metadata": {
        "colab": {
          "base_uri": "https://localhost:8080/"
        },
        "id": "nhAsn5hCF94h",
        "outputId": "3d2e6cbb-844b-4678-83f0-3e2b3f86160d"
      },
      "execution_count": 20,
      "outputs": [
        {
          "output_type": "stream",
          "name": "stdout",
          "text": [
            "Human: Tell me a fact about Mars\n",
            "AI: Mars is the fourth planet from the Sun in our solar system and is often referred to as the \"Red Planet\" due to its reddish appearance. It has a thin atmosphere primarily composed of carbon dioxide, with surface features such as volcanoes, valleys, deserts, and polar ice caps. Mars has two moons, Phobos and Deimos, which are much smaller than Earth's moon. The planet has been a subject of interest for exploration and potential colonization by humans in the future.\n"
          ]
        }
      ]
    },
    {
      "cell_type": "code",
      "source": [
        "memory.load_memory_variables({})"
      ],
      "metadata": {
        "colab": {
          "base_uri": "https://localhost:8080/"
        },
        "id": "ZmLaca2JGOcR",
        "outputId": "06932a24-4c30-49c4-fa74-aa8558e4d851"
      },
      "execution_count": 21,
      "outputs": [
        {
          "output_type": "execute_result",
          "data": {
            "text/plain": [
              "{'history': 'Human: Tell me a fact about Mars\\nAI: Mars is the fourth planet from the Sun in our solar system and is often referred to as the \"Red Planet\" due to its reddish appearance. It has a thin atmosphere primarily composed of carbon dioxide, with surface features such as volcanoes, valleys, deserts, and polar ice caps. Mars has two moons, Phobos and Deimos, which are much smaller than Earth\\'s moon. The planet has been a subject of interest for exploration and potential colonization by humans in the future.'}"
            ]
          },
          "metadata": {},
          "execution_count": 21
        }
      ]
    }
  ]
}