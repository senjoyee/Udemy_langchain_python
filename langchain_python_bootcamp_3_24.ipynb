{
  "nbformat": 4,
  "nbformat_minor": 0,
  "metadata": {
    "colab": {
      "provenance": [],
      "authorship_tag": "ABX9TyMPDuCtI+p3QQSZw6h9sWxp",
      "include_colab_link": true
    },
    "kernelspec": {
      "name": "python3",
      "display_name": "Python 3"
    },
    "language_info": {
      "name": "python"
    }
  },
  "cells": [
    {
      "cell_type": "markdown",
      "metadata": {
        "id": "view-in-github",
        "colab_type": "text"
      },
      "source": [
        "<a href=\"https://colab.research.google.com/github/senjoyee/udemy_langchain_python/blob/main/langchain_python_bootcamp_3_24.ipynb\" target=\"_parent\"><img src=\"https://colab.research.google.com/assets/colab-badge.svg\" alt=\"Open In Colab\"/></a>"
      ]
    },
    {
      "cell_type": "code",
      "execution_count": null,
      "metadata": {
        "id": "eweaG_3lk47h"
      },
      "outputs": [],
      "source": [
        "!pip install langchain-chroma"
      ]
    },
    {
      "cell_type": "code",
      "source": [
        "!pip install langchain\n",
        "!pip install -qU langchain-openai\n"
      ],
      "metadata": {
        "id": "cqGMyiNDlcVE"
      },
      "execution_count": null,
      "outputs": []
    },
    {
      "cell_type": "code",
      "source": [
        "from google.colab import userdata\n",
        "import os\n",
        "os.environ[\"OPENAI_API_KEY\"] = userdata.get('OPENAI_API_KEY')\n",
        "from langchain_openai import OpenAIEmbeddings"
      ],
      "metadata": {
        "id": "TKm_RGqglvlw"
      },
      "execution_count": null,
      "outputs": []
    },
    {
      "cell_type": "code",
      "source": [
        "from langchain_text_splitters import CharacterTextSplitter\n",
        "from langchain_chroma import Chroma\n",
        "from langchain_community.document_loaders import TextLoader"
      ],
      "metadata": {
        "id": "nIVWdjC4mQjP"
      },
      "execution_count": null,
      "outputs": []
    },
    {
      "cell_type": "markdown",
      "source": [
        "*LOAD DOCUMENT --> SPLIT CHUNKS*\n",
        "\n",
        "*EMBEDDING --> EMBED CHUNKS --> VECTORS*\n",
        "\n",
        "*VECTOR CHUNKS --> SAVE CHROMADB*\n",
        "\n",
        "*query --> similarity search chromadb*"
      ],
      "metadata": {
        "id": "AHQoVv1ymY3m"
      }
    },
    {
      "cell_type": "code",
      "source": [
        "loader = TextLoader(\"FDR_State_of_Union_1944.txt\")\n",
        "documents = loader.load()\n",
        "text_splitter = CharacterTextSplitter.from_tiktoken_encoder(chunk_size=500)\n",
        "docs = text_splitter.split_documents(documents)"
      ],
      "metadata": {
        "id": "mImjkze0m8S7"
      },
      "execution_count": null,
      "outputs": []
    },
    {
      "cell_type": "code",
      "source": [
        "embedding_function = OpenAIEmbeddings()"
      ],
      "metadata": {
        "id": "2yvaVn_lmrGz"
      },
      "execution_count": null,
      "outputs": []
    },
    {
      "cell_type": "code",
      "source": [
        "db = Chroma.from_documents(docs,embedding_function,persist_directory=\"speech_new_db\")"
      ],
      "metadata": {
        "id": "g8D33Ax5n8GT"
      },
      "execution_count": null,
      "outputs": []
    },
    {
      "cell_type": "markdown",
      "source": [
        "Create a new connection(optional here)"
      ],
      "metadata": {
        "id": "vvi_N8COp41d"
      }
    },
    {
      "cell_type": "code",
      "source": [
        "db_new_connection = Chroma(persist_directory=\"speech_new_db\",embedding_function=embedding_function)"
      ],
      "metadata": {
        "id": "rE3oNo_moZp7"
      },
      "execution_count": null,
      "outputs": []
    },
    {
      "cell_type": "code",
      "source": [
        "query = \"What did FDR say about cost of food law?\""
      ],
      "metadata": {
        "id": "V_NBdT9Rp8hm"
      },
      "execution_count": null,
      "outputs": []
    },
    {
      "cell_type": "code",
      "source": [
        "answer = db.similarity_search(query)"
      ],
      "metadata": {
        "id": "YVi7WbHZqHZc"
      },
      "execution_count": null,
      "outputs": []
    },
    {
      "cell_type": "code",
      "source": [
        "print(answer[0].page_content)"
      ],
      "metadata": {
        "id": "_CzaTcEuqRp7"
      },
      "execution_count": null,
      "outputs": []
    },
    {
      "cell_type": "markdown",
      "source": [
        "Add another document"
      ],
      "metadata": {
        "id": "UfawIhaMqmTt"
      }
    },
    {
      "cell_type": "code",
      "source": [
        "loader = TextLoader(\"Lincoln_State_of_Union_1862.txt\")\n",
        "documents = loader.load()"
      ],
      "metadata": {
        "id": "TrCtmdvLrFJ3"
      },
      "execution_count": null,
      "outputs": []
    },
    {
      "cell_type": "code",
      "source": [
        "docs = text_splitter.split_documents(documents)"
      ],
      "metadata": {
        "id": "VH-lLPYBrPgM"
      },
      "execution_count": null,
      "outputs": []
    },
    {
      "cell_type": "code",
      "source": [
        "db_new_connection = Chroma.from_documents(docs,embedding_function,persist_directory=\"speech_new_db\")"
      ],
      "metadata": {
        "id": "D1NSlZgDrhXC"
      },
      "execution_count": null,
      "outputs": []
    },
    {
      "cell_type": "code",
      "source": [
        "docs = db_new_connection.similarity_search(\"slavery\")"
      ],
      "metadata": {
        "id": "svw5cfEsr9gV"
      },
      "execution_count": null,
      "outputs": []
    },
    {
      "cell_type": "code",
      "source": [
        "print(docs[0].page_content)"
      ],
      "metadata": {
        "colab": {
          "base_uri": "https://localhost:8080/"
        },
        "id": "LpQiYXwMsFO7",
        "outputId": "c0b139b7-d7ba-48e4-c459-6d888b433025"
      },
      "execution_count": null,
      "outputs": [
        {
          "output_type": "stream",
          "name": "stdout",
          "text": [
            "As to the second article, I think it would be impracticable to return to bondage the class of persons therein contemplated. Some of them, doubtless, in the property sense belong to loyal owners, and hence provision is made in this article for compensating such. The third article relates to the future of the freed people. It does not oblige, but merely authorizes Congress to aid in colonizing such as may consent. This ought not to be regarded as objectionable on the one hand or on the other, insomuch as it comes to nothing unless by the mutual consent of the people to be deported and the American voters, through their representatives in Congress.\n",
            "\n",
            "I can not make it better known than it already is that I strongly favor colonization; and yet I wish to say there is an objection urged against free colored persons remaining in the country which is largely imaginary, if not sometimes malicious.\n",
            "\n",
            "It is insisted that their presence would injure and displace white labor and white laborers. If there ever could be a proper time for mere catch arguments, that time surely is not now. In times like the present men should utter nothing for which they would not willingly be responsible through time and in eternity. Is it true, then, that colored people can displace any more white labor by being free than by remaining slaves? If they stay in their old places, they jostle no white laborers; if they leave their old places, they leave them open to white laborers. Logically, there is neither more nor less of it. Emancipation, even without deportation, would probably enhance the wages of white labor, and very surely would not reduce them. Thus the customary amount of labor would still have to be performed—the freed people would surely not do more than their old proportion of it, and very probably for a time would do less, leaving an increased part to white laborers, bringing their labor into greater demand, and consequently enhancing the wages of it. With deportation, even to a limited extent, enhanced wages to white labor is mathematically certain. Labor is like any other commodity in the market—increase the demand for it and you increase the price of it. Reduce the supply of black labor by colonizing the black laborer out of the country, and by precisely so much you increase the demand for and wages of white labor.\n"
          ]
        }
      ]
    },
    {
      "cell_type": "code",
      "source": [
        "print(docs[0].metadata)"
      ],
      "metadata": {
        "colab": {
          "base_uri": "https://localhost:8080/"
        },
        "id": "Hs7D9mi0sWaI",
        "outputId": "b650af62-3046-4faa-8c9e-cb48bdf3ca5a"
      },
      "execution_count": null,
      "outputs": [
        {
          "output_type": "stream",
          "name": "stdout",
          "text": [
            "{'source': 'Lincoln_State_of_Union_1862.txt'}\n"
          ]
        }
      ]
    },
    {
      "cell_type": "code",
      "source": [
        "type(db_new_connection)"
      ],
      "metadata": {
        "colab": {
          "base_uri": "https://localhost:8080/",
          "height": 256
        },
        "id": "Fqso9xal6HSM",
        "outputId": "46dc38ef-f4b0-4d6c-deea-a15d7fda132b"
      },
      "execution_count": null,
      "outputs": [
        {
          "output_type": "execute_result",
          "data": {
            "text/plain": [
              "langchain_chroma.vectorstores.Chroma"
            ],
            "text/html": [
              "<div style=\"max-width:800px; border: 1px solid var(--colab-border-color);\"><style>\n",
              "      pre.function-repr-contents {\n",
              "        overflow-x: auto;\n",
              "        padding: 8px 12px;\n",
              "        max-height: 500px;\n",
              "      }\n",
              "\n",
              "      pre.function-repr-contents.function-repr-contents-collapsed {\n",
              "        cursor: pointer;\n",
              "        max-height: 100px;\n",
              "      }\n",
              "    </style>\n",
              "    <pre style=\"white-space: initial; background:\n",
              "         var(--colab-secondary-surface-color); padding: 8px 12px;\n",
              "         border-bottom: 1px solid var(--colab-border-color);\"><b>langchain_chroma.vectorstores.Chroma</b><br/>def __init__(collection_name: str=_LANGCHAIN_DEFAULT_COLLECTION_NAME, embedding_function: Optional[Embeddings]=None, persist_directory: Optional[str]=None, client_settings: Optional[chromadb.config.Settings]=None, collection_metadata: Optional[Dict]=None, client: Optional[chromadb.ClientAPI]=None, relevance_score_fn: Optional[Callable[[float], float]]=None, create_collection_if_not_exists: Optional[bool]=True) -&gt; None</pre><pre class=\"function-repr-contents function-repr-contents-collapsed\" style=\"\"><a class=\"filepath\" style=\"display:none\" href=\"#\">/usr/local/lib/python3.10/dist-packages/langchain_chroma/vectorstores.py</a>`ChromaDB` vector store.\n",
              "\n",
              "To use, you should have the ``chromadb`` python package installed.\n",
              "\n",
              "Example:\n",
              "    .. code-block:: python\n",
              "\n",
              "            from langchain_chroma import Chroma\n",
              "            from langchain_openai import OpenAIEmbeddings\n",
              "\n",
              "            embeddings = OpenAIEmbeddings()\n",
              "            vectorstore = Chroma(&quot;langchain_store&quot;, embeddings)</pre>\n",
              "      <script>\n",
              "      if (google.colab.kernel.accessAllowed && google.colab.files && google.colab.files.view) {\n",
              "        for (const element of document.querySelectorAll('.filepath')) {\n",
              "          element.style.display = 'block'\n",
              "          element.onclick = (event) => {\n",
              "            event.preventDefault();\n",
              "            event.stopPropagation();\n",
              "            google.colab.files.view(element.textContent, 111);\n",
              "          };\n",
              "        }\n",
              "      }\n",
              "      for (const element of document.querySelectorAll('.function-repr-contents')) {\n",
              "        element.onclick = (event) => {\n",
              "          event.preventDefault();\n",
              "          event.stopPropagation();\n",
              "          element.classList.toggle('function-repr-contents-collapsed');\n",
              "        };\n",
              "      }\n",
              "      </script>\n",
              "      </div>"
            ]
          },
          "metadata": {},
          "execution_count": 48
        }
      ]
    },
    {
      "cell_type": "code",
      "source": [
        "retriever = db_new_connection.as_retriever()"
      ],
      "metadata": {
        "id": "KlFuau-T6c6h"
      },
      "execution_count": null,
      "outputs": []
    },
    {
      "cell_type": "code",
      "source": [
        "print(type(retriever))"
      ],
      "metadata": {
        "colab": {
          "base_uri": "https://localhost:8080/"
        },
        "id": "N0M1s_Vz6l_D",
        "outputId": "9e9d8d1f-ffe4-494c-f6f2-0b11ac6c977b"
      },
      "execution_count": null,
      "outputs": [
        {
          "output_type": "stream",
          "name": "stdout",
          "text": [
            "<class 'langchain_core.vectorstores.VectorStoreRetriever'>\n"
          ]
        }
      ]
    },
    {
      "cell_type": "code",
      "source": [
        "results = retriever.invoke(\"cost of food law\")"
      ],
      "metadata": {
        "id": "q_83iN7k6ogp"
      },
      "execution_count": null,
      "outputs": []
    },
    {
      "cell_type": "code",
      "source": [],
      "metadata": {
        "id": "I_KKJoQY64S7"
      },
      "execution_count": null,
      "outputs": []
    }
  ]
}